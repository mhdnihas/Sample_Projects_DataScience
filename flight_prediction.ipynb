{
 "cells": [
  {
   "cell_type": "markdown",
   "id": "64cf70b0-cc63-4de9-b625-4c7ac14ed6f4",
   "metadata": {},
   "source": [
    "## Flight Price Prediction(EDA + Feature Engineering)"
   ]
  },
  {
   "cell_type": "code",
   "execution_count": 2,
   "id": "0c6bb01b-dabd-4482-965d-eb46ebfd3b01",
   "metadata": {},
   "outputs": [
    {
     "name": "stdout",
     "output_type": "stream",
     "text": [
      "3\n"
     ]
    }
   ],
   "source": []
  },
  {
   "cell_type": "code",
   "execution_count": null,
   "id": "606b44cd-a1ef-4bde-a65e-4016aabcfa14",
   "metadata": {},
   "outputs": [],
   "source": []
  }
 ],
 "metadata": {
  "kernelspec": {
   "display_name": "Python 3 (ipykernel)",
   "language": "python",
   "name": "python3"
  },
  "language_info": {
   "codemirror_mode": {
    "name": "ipython",
    "version": 3
   },
   "file_extension": ".py",
   "mimetype": "text/x-python",
   "name": "python",
   "nbconvert_exporter": "python",
   "pygments_lexer": "ipython3",
   "version": "3.11.5"
  }
 },
 "nbformat": 4,
 "nbformat_minor": 5
}
