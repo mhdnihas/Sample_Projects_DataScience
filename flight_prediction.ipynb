{
 "cells": [
  {
   "cell_type": "markdown",
   "id": "64cf70b0-cc63-4de9-b625-4c7ac14ed6f4",
   "metadata": {},
   "source": [
    "# 1. Defaine The Problem"
   ]
  },
  {
   "cell_type": "markdown",
   "id": "4a7bd05c-1fcf-4f90-bb56-46d054202852",
   "metadata": {},
   "source": [
    "## Flight Fare prediction using machine learning\n",
    "##### In this article, we will be analyzing the flight fare dataset using essential exploratory data analysis techniques then will draw some predictions about the price of the flight based on some features such as what type of airline it is, what is the arrival time, what is the departure time, what is the duration of the flight, source, destination and more."
   ]
  },
  {
   "cell_type": "markdown",
   "id": "75384f0c-69cb-46c3-96fb-ca544e5ac98c",
   "metadata": {},
   "source": [
    "## Flight Price Prediction(EDA + Feature Engineering)"
   ]
  },
  {
   "cell_type": "markdown",
   "id": "4f737b34-e8ab-4f0c-bdcd-7320da7f45b2",
   "metadata": {},
   "source": [
    "## Importing Labraries"
   ]
  },
  {
   "cell_type": "code",
   "execution_count": 355,
   "id": "0c6bb01b-dabd-4482-965d-eb46ebfd3b01",
   "metadata": {},
   "outputs": [],
   "source": [
    "import numpy as np\n",
    "import pandas as pd\n",
    "import matplotlib.pyplot as plt\n",
    "import seaborn as sns\n",
    "%matplotlib inline"
   ]
  },
  {
   "cell_type": "code",
   "execution_count": 356,
   "id": "606b44cd-a1ef-4bde-a65e-4016aabcfa14",
   "metadata": {},
   "outputs": [],
   "source": [
    "train_df=pd.read_excel('Data_Train.xlsx')\n",
    "test_df=pd.read_excel('Test_set.xlsx')"
   ]
  },
  {
   "cell_type": "code",
   "execution_count": 357,
   "id": "697be067-e3f2-46a4-9bbb-58eeaf6937eb",
   "metadata": {},
   "outputs": [
    {
     "data": {
      "text/html": [
       "<div>\n",
       "<style scoped>\n",
       "    .dataframe tbody tr th:only-of-type {\n",
       "        vertical-align: middle;\n",
       "    }\n",
       "\n",
       "    .dataframe tbody tr th {\n",
       "        vertical-align: top;\n",
       "    }\n",
       "\n",
       "    .dataframe thead th {\n",
       "        text-align: right;\n",
       "    }\n",
       "</style>\n",
       "<table border=\"1\" class=\"dataframe\">\n",
       "  <thead>\n",
       "    <tr style=\"text-align: right;\">\n",
       "      <th></th>\n",
       "      <th>Airline</th>\n",
       "      <th>Date_of_Journey</th>\n",
       "      <th>Source</th>\n",
       "      <th>Destination</th>\n",
       "      <th>Route</th>\n",
       "      <th>Dep_Time</th>\n",
       "      <th>Arrival_Time</th>\n",
       "      <th>Duration</th>\n",
       "      <th>Total_Stops</th>\n",
       "      <th>Additional_Info</th>\n",
       "      <th>Price</th>\n",
       "    </tr>\n",
       "  </thead>\n",
       "  <tbody>\n",
       "    <tr>\n",
       "      <th>0</th>\n",
       "      <td>IndiGo</td>\n",
       "      <td>24/03/2019</td>\n",
       "      <td>Banglore</td>\n",
       "      <td>New Delhi</td>\n",
       "      <td>BLR → DEL</td>\n",
       "      <td>22:20</td>\n",
       "      <td>01:10 22 Mar</td>\n",
       "      <td>2h 50m</td>\n",
       "      <td>non-stop</td>\n",
       "      <td>No info</td>\n",
       "      <td>3897</td>\n",
       "    </tr>\n",
       "    <tr>\n",
       "      <th>1</th>\n",
       "      <td>Air India</td>\n",
       "      <td>1/05/2019</td>\n",
       "      <td>Kolkata</td>\n",
       "      <td>Banglore</td>\n",
       "      <td>CCU → IXR → BBI → BLR</td>\n",
       "      <td>05:50</td>\n",
       "      <td>13:15</td>\n",
       "      <td>7h 25m</td>\n",
       "      <td>2 stops</td>\n",
       "      <td>No info</td>\n",
       "      <td>7662</td>\n",
       "    </tr>\n",
       "    <tr>\n",
       "      <th>2</th>\n",
       "      <td>Jet Airways</td>\n",
       "      <td>9/06/2019</td>\n",
       "      <td>Delhi</td>\n",
       "      <td>Cochin</td>\n",
       "      <td>DEL → LKO → BOM → COK</td>\n",
       "      <td>09:25</td>\n",
       "      <td>04:25 10 Jun</td>\n",
       "      <td>19h</td>\n",
       "      <td>2 stops</td>\n",
       "      <td>No info</td>\n",
       "      <td>13882</td>\n",
       "    </tr>\n",
       "    <tr>\n",
       "      <th>3</th>\n",
       "      <td>IndiGo</td>\n",
       "      <td>12/05/2019</td>\n",
       "      <td>Kolkata</td>\n",
       "      <td>Banglore</td>\n",
       "      <td>CCU → NAG → BLR</td>\n",
       "      <td>18:05</td>\n",
       "      <td>23:30</td>\n",
       "      <td>5h 25m</td>\n",
       "      <td>1 stop</td>\n",
       "      <td>No info</td>\n",
       "      <td>6218</td>\n",
       "    </tr>\n",
       "    <tr>\n",
       "      <th>4</th>\n",
       "      <td>IndiGo</td>\n",
       "      <td>01/03/2019</td>\n",
       "      <td>Banglore</td>\n",
       "      <td>New Delhi</td>\n",
       "      <td>BLR → NAG → DEL</td>\n",
       "      <td>16:50</td>\n",
       "      <td>21:35</td>\n",
       "      <td>4h 45m</td>\n",
       "      <td>1 stop</td>\n",
       "      <td>No info</td>\n",
       "      <td>13302</td>\n",
       "    </tr>\n",
       "  </tbody>\n",
       "</table>\n",
       "</div>"
      ],
      "text/plain": [
       "       Airline Date_of_Journey    Source Destination                  Route  \\\n",
       "0       IndiGo      24/03/2019  Banglore   New Delhi              BLR → DEL   \n",
       "1    Air India       1/05/2019   Kolkata    Banglore  CCU → IXR → BBI → BLR   \n",
       "2  Jet Airways       9/06/2019     Delhi      Cochin  DEL → LKO → BOM → COK   \n",
       "3       IndiGo      12/05/2019   Kolkata    Banglore        CCU → NAG → BLR   \n",
       "4       IndiGo      01/03/2019  Banglore   New Delhi        BLR → NAG → DEL   \n",
       "\n",
       "  Dep_Time  Arrival_Time Duration Total_Stops Additional_Info  Price  \n",
       "0    22:20  01:10 22 Mar   2h 50m    non-stop         No info   3897  \n",
       "1    05:50         13:15   7h 25m     2 stops         No info   7662  \n",
       "2    09:25  04:25 10 Jun      19h     2 stops         No info  13882  \n",
       "3    18:05         23:30   5h 25m      1 stop         No info   6218  \n",
       "4    16:50         21:35   4h 45m      1 stop         No info  13302  "
      ]
     },
     "execution_count": 357,
     "metadata": {},
     "output_type": "execute_result"
    }
   ],
   "source": [
    "train_df.head()"
   ]
  },
  {
   "cell_type": "code",
   "execution_count": 358,
   "id": "e9ecff22-fd84-430f-be4c-f30112729126",
   "metadata": {},
   "outputs": [
    {
     "data": {
      "text/html": [
       "<div>\n",
       "<style scoped>\n",
       "    .dataframe tbody tr th:only-of-type {\n",
       "        vertical-align: middle;\n",
       "    }\n",
       "\n",
       "    .dataframe tbody tr th {\n",
       "        vertical-align: top;\n",
       "    }\n",
       "\n",
       "    .dataframe thead th {\n",
       "        text-align: right;\n",
       "    }\n",
       "</style>\n",
       "<table border=\"1\" class=\"dataframe\">\n",
       "  <thead>\n",
       "    <tr style=\"text-align: right;\">\n",
       "      <th></th>\n",
       "      <th>Airline</th>\n",
       "      <th>Date_of_Journey</th>\n",
       "      <th>Source</th>\n",
       "      <th>Destination</th>\n",
       "      <th>Route</th>\n",
       "      <th>Dep_Time</th>\n",
       "      <th>Arrival_Time</th>\n",
       "      <th>Duration</th>\n",
       "      <th>Total_Stops</th>\n",
       "      <th>Additional_Info</th>\n",
       "    </tr>\n",
       "  </thead>\n",
       "  <tbody>\n",
       "    <tr>\n",
       "      <th>0</th>\n",
       "      <td>Jet Airways</td>\n",
       "      <td>6/06/2019</td>\n",
       "      <td>Delhi</td>\n",
       "      <td>Cochin</td>\n",
       "      <td>DEL → BOM → COK</td>\n",
       "      <td>17:30</td>\n",
       "      <td>04:25 07 Jun</td>\n",
       "      <td>10h 55m</td>\n",
       "      <td>1 stop</td>\n",
       "      <td>No info</td>\n",
       "    </tr>\n",
       "    <tr>\n",
       "      <th>1</th>\n",
       "      <td>IndiGo</td>\n",
       "      <td>12/05/2019</td>\n",
       "      <td>Kolkata</td>\n",
       "      <td>Banglore</td>\n",
       "      <td>CCU → MAA → BLR</td>\n",
       "      <td>06:20</td>\n",
       "      <td>10:20</td>\n",
       "      <td>4h</td>\n",
       "      <td>1 stop</td>\n",
       "      <td>No info</td>\n",
       "    </tr>\n",
       "    <tr>\n",
       "      <th>2</th>\n",
       "      <td>Jet Airways</td>\n",
       "      <td>21/05/2019</td>\n",
       "      <td>Delhi</td>\n",
       "      <td>Cochin</td>\n",
       "      <td>DEL → BOM → COK</td>\n",
       "      <td>19:15</td>\n",
       "      <td>19:00 22 May</td>\n",
       "      <td>23h 45m</td>\n",
       "      <td>1 stop</td>\n",
       "      <td>In-flight meal not included</td>\n",
       "    </tr>\n",
       "    <tr>\n",
       "      <th>3</th>\n",
       "      <td>Multiple carriers</td>\n",
       "      <td>21/05/2019</td>\n",
       "      <td>Delhi</td>\n",
       "      <td>Cochin</td>\n",
       "      <td>DEL → BOM → COK</td>\n",
       "      <td>08:00</td>\n",
       "      <td>21:00</td>\n",
       "      <td>13h</td>\n",
       "      <td>1 stop</td>\n",
       "      <td>No info</td>\n",
       "    </tr>\n",
       "    <tr>\n",
       "      <th>4</th>\n",
       "      <td>Air Asia</td>\n",
       "      <td>24/06/2019</td>\n",
       "      <td>Banglore</td>\n",
       "      <td>Delhi</td>\n",
       "      <td>BLR → DEL</td>\n",
       "      <td>23:55</td>\n",
       "      <td>02:45 25 Jun</td>\n",
       "      <td>2h 50m</td>\n",
       "      <td>non-stop</td>\n",
       "      <td>No info</td>\n",
       "    </tr>\n",
       "  </tbody>\n",
       "</table>\n",
       "</div>"
      ],
      "text/plain": [
       "             Airline Date_of_Journey    Source Destination            Route  \\\n",
       "0        Jet Airways       6/06/2019     Delhi      Cochin  DEL → BOM → COK   \n",
       "1             IndiGo      12/05/2019   Kolkata    Banglore  CCU → MAA → BLR   \n",
       "2        Jet Airways      21/05/2019     Delhi      Cochin  DEL → BOM → COK   \n",
       "3  Multiple carriers      21/05/2019     Delhi      Cochin  DEL → BOM → COK   \n",
       "4           Air Asia      24/06/2019  Banglore       Delhi        BLR → DEL   \n",
       "\n",
       "  Dep_Time  Arrival_Time Duration Total_Stops              Additional_Info  \n",
       "0    17:30  04:25 07 Jun  10h 55m      1 stop                      No info  \n",
       "1    06:20         10:20       4h      1 stop                      No info  \n",
       "2    19:15  19:00 22 May  23h 45m      1 stop  In-flight meal not included  \n",
       "3    08:00         21:00      13h      1 stop                      No info  \n",
       "4    23:55  02:45 25 Jun   2h 50m    non-stop                      No info  "
      ]
     },
     "execution_count": 358,
     "metadata": {},
     "output_type": "execute_result"
    }
   ],
   "source": [
    "test_df.head()"
   ]
  },
  {
   "cell_type": "markdown",
   "id": "cd83ac31-8dac-4f05-a34c-3d96bfafd507",
   "metadata": {},
   "source": [
    "### Exploratory Data Analysis (EDA)  \n",
    "#### Now here we will be looking at the kind of columns our dataset has."
   ]
  },
  {
   "cell_type": "code",
   "execution_count": 359,
   "id": "be0ad018-6ccf-49d3-9840-8bf6185d3595",
   "metadata": {},
   "outputs": [
    {
     "data": {
      "text/plain": [
       "Index(['Airline', 'Date_of_Journey', 'Source', 'Destination', 'Route',\n",
       "       'Dep_Time', 'Arrival_Time', 'Duration', 'Total_Stops',\n",
       "       'Additional_Info', 'Price'],\n",
       "      dtype='object')"
      ]
     },
     "execution_count": 359,
     "metadata": {},
     "output_type": "execute_result"
    }
   ],
   "source": [
    "train_df.columns"
   ]
  },
  {
   "cell_type": "code",
   "execution_count": 360,
   "id": "8f16b967-1e6e-40ac-b7b1-c0a744b1e416",
   "metadata": {},
   "outputs": [
    {
     "data": {
      "text/plain": [
       "Index(['Airline', 'Date_of_Journey', 'Source', 'Destination', 'Route',\n",
       "       'Dep_Time', 'Arrival_Time', 'Duration', 'Total_Stops',\n",
       "       'Additional_Info'],\n",
       "      dtype='object')"
      ]
     },
     "execution_count": 360,
     "metadata": {},
     "output_type": "execute_result"
    }
   ],
   "source": [
    "test_df.columns"
   ]
  },
  {
   "cell_type": "code",
   "execution_count": 361,
   "id": "494b1408-168a-44b7-8094-417047db832a",
   "metadata": {},
   "outputs": [
    {
     "data": {
      "text/plain": [
       "(10683, 11)"
      ]
     },
     "execution_count": 361,
     "metadata": {},
     "output_type": "execute_result"
    }
   ],
   "source": [
    "train_df.shape"
   ]
  },
  {
   "cell_type": "markdown",
   "id": "2cbc329f-b94b-4387-97a8-052156d35cb3",
   "metadata": {},
   "source": [
    "### To know more about dataset"
   ]
  },
  {
   "cell_type": "code",
   "execution_count": 362,
   "id": "6970daa2-ea8a-4f06-b7ad-468f7d810d1b",
   "metadata": {},
   "outputs": [
    {
     "data": {
      "text/html": [
       "<div>\n",
       "<style scoped>\n",
       "    .dataframe tbody tr th:only-of-type {\n",
       "        vertical-align: middle;\n",
       "    }\n",
       "\n",
       "    .dataframe tbody tr th {\n",
       "        vertical-align: top;\n",
       "    }\n",
       "\n",
       "    .dataframe thead th {\n",
       "        text-align: right;\n",
       "    }\n",
       "</style>\n",
       "<table border=\"1\" class=\"dataframe\">\n",
       "  <thead>\n",
       "    <tr style=\"text-align: right;\">\n",
       "      <th></th>\n",
       "      <th>Price</th>\n",
       "    </tr>\n",
       "  </thead>\n",
       "  <tbody>\n",
       "    <tr>\n",
       "      <th>count</th>\n",
       "      <td>10683.000000</td>\n",
       "    </tr>\n",
       "    <tr>\n",
       "      <th>mean</th>\n",
       "      <td>9087.064121</td>\n",
       "    </tr>\n",
       "    <tr>\n",
       "      <th>std</th>\n",
       "      <td>4611.359167</td>\n",
       "    </tr>\n",
       "    <tr>\n",
       "      <th>min</th>\n",
       "      <td>1759.000000</td>\n",
       "    </tr>\n",
       "    <tr>\n",
       "      <th>25%</th>\n",
       "      <td>5277.000000</td>\n",
       "    </tr>\n",
       "    <tr>\n",
       "      <th>50%</th>\n",
       "      <td>8372.000000</td>\n",
       "    </tr>\n",
       "    <tr>\n",
       "      <th>75%</th>\n",
       "      <td>12373.000000</td>\n",
       "    </tr>\n",
       "    <tr>\n",
       "      <th>max</th>\n",
       "      <td>79512.000000</td>\n",
       "    </tr>\n",
       "  </tbody>\n",
       "</table>\n",
       "</div>"
      ],
      "text/plain": [
       "              Price\n",
       "count  10683.000000\n",
       "mean    9087.064121\n",
       "std     4611.359167\n",
       "min     1759.000000\n",
       "25%     5277.000000\n",
       "50%     8372.000000\n",
       "75%    12373.000000\n",
       "max    79512.000000"
      ]
     },
     "execution_count": 362,
     "metadata": {},
     "output_type": "execute_result"
    }
   ],
   "source": [
    "train_df.describe()"
   ]
  },
  {
   "cell_type": "code",
   "execution_count": 363,
   "id": "0655c60d-c57b-4ce8-a650-8f06537432de",
   "metadata": {},
   "outputs": [
    {
     "name": "stdout",
     "output_type": "stream",
     "text": [
      "<class 'pandas.core.frame.DataFrame'>\n",
      "RangeIndex: 10683 entries, 0 to 10682\n",
      "Data columns (total 11 columns):\n",
      " #   Column           Non-Null Count  Dtype \n",
      "---  ------           --------------  ----- \n",
      " 0   Airline          10683 non-null  object\n",
      " 1   Date_of_Journey  10683 non-null  object\n",
      " 2   Source           10683 non-null  object\n",
      " 3   Destination      10683 non-null  object\n",
      " 4   Route            10682 non-null  object\n",
      " 5   Dep_Time         10683 non-null  object\n",
      " 6   Arrival_Time     10683 non-null  object\n",
      " 7   Duration         10683 non-null  object\n",
      " 8   Total_Stops      10682 non-null  object\n",
      " 9   Additional_Info  10683 non-null  object\n",
      " 10  Price            10683 non-null  int64 \n",
      "dtypes: int64(1), object(10)\n",
      "memory usage: 918.2+ KB\n"
     ]
    }
   ],
   "source": [
    "train_df.info()"
   ]
  },
  {
   "cell_type": "code",
   "execution_count": 364,
   "id": "f1913bfd-45b0-4c13-affc-bb03e2222961",
   "metadata": {},
   "outputs": [
    {
     "data": {
      "text/html": [
       "<div>\n",
       "<style scoped>\n",
       "    .dataframe tbody tr th:only-of-type {\n",
       "        vertical-align: middle;\n",
       "    }\n",
       "\n",
       "    .dataframe tbody tr th {\n",
       "        vertical-align: top;\n",
       "    }\n",
       "\n",
       "    .dataframe thead th {\n",
       "        text-align: right;\n",
       "    }\n",
       "</style>\n",
       "<table border=\"1\" class=\"dataframe\">\n",
       "  <thead>\n",
       "    <tr style=\"text-align: right;\">\n",
       "      <th></th>\n",
       "      <th>Airline</th>\n",
       "      <th>Date_of_Journey</th>\n",
       "      <th>Source</th>\n",
       "      <th>Destination</th>\n",
       "      <th>Route</th>\n",
       "      <th>Dep_Time</th>\n",
       "      <th>Arrival_Time</th>\n",
       "      <th>Duration</th>\n",
       "      <th>Total_Stops</th>\n",
       "      <th>Additional_Info</th>\n",
       "    </tr>\n",
       "  </thead>\n",
       "  <tbody>\n",
       "    <tr>\n",
       "      <th>count</th>\n",
       "      <td>2671</td>\n",
       "      <td>2671</td>\n",
       "      <td>2671</td>\n",
       "      <td>2671</td>\n",
       "      <td>2671</td>\n",
       "      <td>2671</td>\n",
       "      <td>2671</td>\n",
       "      <td>2671</td>\n",
       "      <td>2671</td>\n",
       "      <td>2671</td>\n",
       "    </tr>\n",
       "    <tr>\n",
       "      <th>unique</th>\n",
       "      <td>11</td>\n",
       "      <td>44</td>\n",
       "      <td>5</td>\n",
       "      <td>6</td>\n",
       "      <td>100</td>\n",
       "      <td>199</td>\n",
       "      <td>704</td>\n",
       "      <td>320</td>\n",
       "      <td>5</td>\n",
       "      <td>6</td>\n",
       "    </tr>\n",
       "    <tr>\n",
       "      <th>top</th>\n",
       "      <td>Jet Airways</td>\n",
       "      <td>9/05/2019</td>\n",
       "      <td>Delhi</td>\n",
       "      <td>Cochin</td>\n",
       "      <td>DEL → BOM → COK</td>\n",
       "      <td>10:00</td>\n",
       "      <td>19:00</td>\n",
       "      <td>2h 50m</td>\n",
       "      <td>1 stop</td>\n",
       "      <td>No info</td>\n",
       "    </tr>\n",
       "    <tr>\n",
       "      <th>freq</th>\n",
       "      <td>897</td>\n",
       "      <td>144</td>\n",
       "      <td>1145</td>\n",
       "      <td>1145</td>\n",
       "      <td>624</td>\n",
       "      <td>62</td>\n",
       "      <td>113</td>\n",
       "      <td>122</td>\n",
       "      <td>1431</td>\n",
       "      <td>2148</td>\n",
       "    </tr>\n",
       "  </tbody>\n",
       "</table>\n",
       "</div>"
      ],
      "text/plain": [
       "            Airline Date_of_Journey Source Destination            Route  \\\n",
       "count          2671            2671   2671        2671             2671   \n",
       "unique           11              44      5           6              100   \n",
       "top     Jet Airways       9/05/2019  Delhi      Cochin  DEL → BOM → COK   \n",
       "freq            897             144   1145        1145              624   \n",
       "\n",
       "       Dep_Time Arrival_Time Duration Total_Stops Additional_Info  \n",
       "count      2671         2671     2671        2671            2671  \n",
       "unique      199          704      320           5               6  \n",
       "top       10:00        19:00   2h 50m      1 stop         No info  \n",
       "freq         62          113      122        1431            2148  "
      ]
     },
     "execution_count": 364,
     "metadata": {},
     "output_type": "execute_result"
    }
   ],
   "source": [
    "test_df.describe()"
   ]
  },
  {
   "cell_type": "markdown",
   "id": "eb16cd15-5eae-4dba-bacf-006e16734fca",
   "metadata": {},
   "source": [
    "## Data Visualization"
   ]
  },
  {
   "cell_type": "code",
   "execution_count": 365,
   "id": "2434e707-d834-4b6f-a953-6b7dd8bce7e4",
   "metadata": {},
   "outputs": [
    {
     "name": "stderr",
     "output_type": "stream",
     "text": [
      "C:\\Users\\DELL\\AppData\\Local\\Temp\\ipykernel_24092\\2524523741.py:2: FutureWarning: \n",
      "\n",
      "Passing `palette` without assigning `hue` is deprecated and will be removed in v0.14.0. Assign the `x` variable to `hue` and set `legend=False` for the same effect.\n",
      "\n",
      "  sns.boxplot(x='Airline',y='Price',data=train_df.sort_values('Price',ascending=False),palette='plasma')\n"
     ]
    },
    {
     "data": {
      "text/plain": [
       "<Axes: xlabel='Airline', ylabel='Price'>"
      ]
     },
     "execution_count": 365,
     "metadata": {},
     "output_type": "execute_result"
    },
    {
     "data": {
      "image/png": "[encoded data removed]",
      "text/plain": [
       "<Figure size 2400x1200 with 1 Axes>"
      ]
     },
     "metadata": {},
     "output_type": "display_data"
    }
   ],
   "source": [
    "plt.figure(figsize=(24,12))\n",
    "sns.boxplot(x='Airline',y='Price',data=train_df.sort_values('Price',ascending=False),palette='plasma')\n"
   ]
  },
  {
   "cell_type": "markdown",
   "id": "ca46ad81-270c-46a9-a6a8-9deb597c2b1f",
   "metadata": {},
   "source": [
    "### Observation:\n",
    "* Here We drew the boxplot to understand the outlier of price which Airline has. \n",
    "* here most outlier price for jet Airways"
   ]
  },
  {
   "cell_type": "code",
   "execution_count": 366,
   "id": "ea3e3215-bd41-4f04-939e-9dceccc1781a",
   "metadata": {},
   "outputs": [
    {
     "name": "stderr",
     "output_type": "stream",
     "text": [
      "C:\\Users\\DELL\\AppData\\Local\\Temp\\ipykernel_24092\\2538225791.py:2: FutureWarning: \n",
      "\n",
      "Passing `palette` without assigning `hue` is deprecated and will be removed in v0.14.0. Assign the `x` variable to `hue` and set `legend=False` for the same effect.\n",
      "\n",
      "  sns.violinplot(x='Source',y='Price',data=train_df.sort_values('Price',ascending=False),palette='Set1')\n"
     ]
    },
    {
     "data": {
      "text/plain": [
       "<Axes: xlabel='Source', ylabel='Price'>"
      ]
     },
     "execution_count": 366,
     "metadata": {},
     "output_type": "execute_result"
    },
    {
     "data": {
      "image/png": "[encoded data removed]",
      "text/plain": [
       "<Figure size 2400x1200 with 1 Axes>"
      ]
     },
     "metadata": {},
     "output_type": "display_data"
    }
   ],
   "source": [
    "plt.figure(figsize=(24,12))\n",
    "sns.violinplot(x='Source',y='Price',data=train_df.sort_values('Price',ascending=False),palette='Set1')"
   ]
  },
  {
   "cell_type": "markdown",
   "id": "c64c742b-38ae-40a9-ab71-6620466df58a",
   "metadata": {},
   "source": [
    "### Observation\n",
    "* Here most outlier price is in Banglore and least is in Chennai."
   ]
  },
  {
   "cell_type": "code",
   "execution_count": 367,
   "id": "651c046e-4712-4961-963c-0233196e46db",
   "metadata": {},
   "outputs": [],
   "source": [
    "## WE compine the train and test data set because we easly to clean\n",
    "final_df=pd.concat([train_df,test_df],ignore_index=True)"
   ]
  },
  {
   "cell_type": "code",
   "execution_count": 368,
   "id": "63ed47cb-2729-4828-83ac-5aea40b5b0da",
   "metadata": {},
   "outputs": [
    {
     "name": "stderr",
     "output_type": "stream",
     "text": [
      "C:\\Users\\DELL\\AppData\\Local\\Temp\\ipykernel_24092\\3274297695.py:2: FutureWarning: \n",
      "\n",
      "Passing `palette` without assigning `hue` is deprecated and will be removed in v0.14.0. Assign the `x` variable to `hue` and set `legend=False` for the same effect.\n",
      "\n",
      "  sns.catplot(x='Destination',y='Price',data=train_df.sort_values('Price',ascending=False),kind='box',height=3,aspect=3,palette='Set1')\n"
     ]
    },
    {
     "data": {
      "text/plain": [
       "<seaborn.axisgrid.FacetGrid at 0x1afff067050>"
      ]
     },
     "execution_count": 368,
     "metadata": {},
     "output_type": "execute_result"
    },
    {
     "data": {
      "image/png": "[encoded data removed]",
      "text/plain": [
       "<Figure size 900x300 with 1 Axes>"
      ]
     },
     "metadata": {},
     "output_type": "display_data"
    }
   ],
   "source": [
    "# Plotting Box plot for Price vs Destination\n",
    "sns.catplot(x='Destination',y='Price',data=train_df.sort_values('Price',ascending=False),kind='box',height=3,aspect=3,palette='Set1')"
   ]
  },
  {
   "cell_type": "markdown",
   "id": "10bcf535-c0aa-4886-943f-3ae651aca55d",
   "metadata": {},
   "source": [
    "### inference:\n",
    "##### We plot with Price and Destination of flight travel using box plot , Here We can understand New Delhi has the most outlier prica and Kolkata has least "
   ]
  },
  {
   "cell_type": "code",
   "execution_count": 369,
   "id": "fe4bc1d2-0d82-4c18-9cb7-5ebcdbd3ab39",
   "metadata": {},
   "outputs": [
    {
     "data": {
      "text/html": [
       "<div>\n",
       "<style scoped>\n",
       "    .dataframe tbody tr th:only-of-type {\n",
       "        vertical-align: middle;\n",
       "    }\n",
       "\n",
       "    .dataframe tbody tr th {\n",
       "        vertical-align: top;\n",
       "    }\n",
       "\n",
       "    .dataframe thead th {\n",
       "        text-align: right;\n",
       "    }\n",
       "</style>\n",
       "<table border=\"1\" class=\"dataframe\">\n",
       "  <thead>\n",
       "    <tr style=\"text-align: right;\">\n",
       "      <th></th>\n",
       "      <th>Airline</th>\n",
       "      <th>Date_of_Journey</th>\n",
       "      <th>Source</th>\n",
       "      <th>Destination</th>\n",
       "      <th>Route</th>\n",
       "      <th>Dep_Time</th>\n",
       "      <th>Arrival_Time</th>\n",
       "      <th>Duration</th>\n",
       "      <th>Total_Stops</th>\n",
       "      <th>Additional_Info</th>\n",
       "      <th>Price</th>\n",
       "    </tr>\n",
       "  </thead>\n",
       "  <tbody>\n",
       "    <tr>\n",
       "      <th>0</th>\n",
       "      <td>IndiGo</td>\n",
       "      <td>24/03/2019</td>\n",
       "      <td>Banglore</td>\n",
       "      <td>New Delhi</td>\n",
       "      <td>BLR → DEL</td>\n",
       "      <td>22:20</td>\n",
       "      <td>01:10 22 Mar</td>\n",
       "      <td>2h 50m</td>\n",
       "      <td>non-stop</td>\n",
       "      <td>No info</td>\n",
       "      <td>3897.0</td>\n",
       "    </tr>\n",
       "    <tr>\n",
       "      <th>1</th>\n",
       "      <td>Air India</td>\n",
       "      <td>1/05/2019</td>\n",
       "      <td>Kolkata</td>\n",
       "      <td>Banglore</td>\n",
       "      <td>CCU → IXR → BBI → BLR</td>\n",
       "      <td>05:50</td>\n",
       "      <td>13:15</td>\n",
       "      <td>7h 25m</td>\n",
       "      <td>2 stops</td>\n",
       "      <td>No info</td>\n",
       "      <td>7662.0</td>\n",
       "    </tr>\n",
       "    <tr>\n",
       "      <th>2</th>\n",
       "      <td>Jet Airways</td>\n",
       "      <td>9/06/2019</td>\n",
       "      <td>Delhi</td>\n",
       "      <td>Cochin</td>\n",
       "      <td>DEL → LKO → BOM → COK</td>\n",
       "      <td>09:25</td>\n",
       "      <td>04:25 10 Jun</td>\n",
       "      <td>19h</td>\n",
       "      <td>2 stops</td>\n",
       "      <td>No info</td>\n",
       "      <td>13882.0</td>\n",
       "    </tr>\n",
       "    <tr>\n",
       "      <th>3</th>\n",
       "      <td>IndiGo</td>\n",
       "      <td>12/05/2019</td>\n",
       "      <td>Kolkata</td>\n",
       "      <td>Banglore</td>\n",
       "      <td>CCU → NAG → BLR</td>\n",
       "      <td>18:05</td>\n",
       "      <td>23:30</td>\n",
       "      <td>5h 25m</td>\n",
       "      <td>1 stop</td>\n",
       "      <td>No info</td>\n",
       "      <td>6218.0</td>\n",
       "    </tr>\n",
       "    <tr>\n",
       "      <th>4</th>\n",
       "      <td>IndiGo</td>\n",
       "      <td>01/03/2019</td>\n",
       "      <td>Banglore</td>\n",
       "      <td>New Delhi</td>\n",
       "      <td>BLR → NAG → DEL</td>\n",
       "      <td>16:50</td>\n",
       "      <td>21:35</td>\n",
       "      <td>4h 45m</td>\n",
       "      <td>1 stop</td>\n",
       "      <td>No info</td>\n",
       "      <td>13302.0</td>\n",
       "    </tr>\n",
       "  </tbody>\n",
       "</table>\n",
       "</div>"
      ],
      "text/plain": [
       "       Airline Date_of_Journey    Source Destination                  Route  \\\n",
       "0       IndiGo      24/03/2019  Banglore   New Delhi              BLR → DEL   \n",
       "1    Air India       1/05/2019   Kolkata    Banglore  CCU → IXR → BBI → BLR   \n",
       "2  Jet Airways       9/06/2019     Delhi      Cochin  DEL → LKO → BOM → COK   \n",
       "3       IndiGo      12/05/2019   Kolkata    Banglore        CCU → NAG → BLR   \n",
       "4       IndiGo      01/03/2019  Banglore   New Delhi        BLR → NAG → DEL   \n",
       "\n",
       "  Dep_Time  Arrival_Time Duration Total_Stops Additional_Info    Price  \n",
       "0    22:20  01:10 22 Mar   2h 50m    non-stop         No info   3897.0  \n",
       "1    05:50         13:15   7h 25m     2 stops         No info   7662.0  \n",
       "2    09:25  04:25 10 Jun      19h     2 stops         No info  13882.0  \n",
       "3    18:05         23:30   5h 25m      1 stop         No info   6218.0  \n",
       "4    16:50         21:35   4h 45m      1 stop         No info  13302.0  "
      ]
     },
     "execution_count": 369,
     "metadata": {},
     "output_type": "execute_result"
    }
   ],
   "source": [
    "final_df.head()"
   ]
  },
  {
   "cell_type": "code",
   "execution_count": 370,
   "id": "79ac4bee-8aa4-4d99-b656-e1a89103829a",
   "metadata": {},
   "outputs": [
    {
     "name": "stdout",
     "output_type": "stream",
     "text": [
      "<class 'pandas.core.frame.DataFrame'>\n",
      "RangeIndex: 13354 entries, 0 to 13353\n",
      "Data columns (total 11 columns):\n",
      " #   Column           Non-Null Count  Dtype  \n",
      "---  ------           --------------  -----  \n",
      " 0   Airline          13354 non-null  object \n",
      " 1   Date_of_Journey  13354 non-null  object \n",
      " 2   Source           13354 non-null  object \n",
      " 3   Destination      13354 non-null  object \n",
      " 4   Route            13353 non-null  object \n",
      " 5   Dep_Time         13354 non-null  object \n",
      " 6   Arrival_Time     13354 non-null  object \n",
      " 7   Duration         13354 non-null  object \n",
      " 8   Total_Stops      13353 non-null  object \n",
      " 9   Additional_Info  13354 non-null  object \n",
      " 10  Price            10683 non-null  float64\n",
      "dtypes: float64(1), object(10)\n",
      "memory usage: 1.1+ MB\n"
     ]
    }
   ],
   "source": [
    "final_df.info()"
   ]
  },
  {
   "cell_type": "code",
   "execution_count": null,
   "id": "a0f9c6ce-6c3c-40c1-9225-5ce1db16f1c2",
   "metadata": {},
   "outputs": [],
   "source": [
    "\n"
   ]
  },
  {
   "cell_type": "markdown",
   "id": "344a438e-b60d-47e0-9e49-c6dd0c990d3a",
   "metadata": {},
   "source": [
    "### Fetaure Engineering Process\n",
    "Here We create new column name 'Date' ,Month' 'Year' using existing 'column Date_of_journey'"
   ]
  },
  {
   "cell_type": "code",
   "execution_count": 371,
   "id": "8e2592f0-2381-458d-ab03-eeafa2ad5d31",
   "metadata": {},
   "outputs": [],
   "source": [
    "final_df['Date ']=final_df['Date_of_Journey'].apply(lambda x:x.split('/')[0])\n",
    "final_df['Month']=final_df['Date_of_Journey'].apply(lambda x:x.split('/')[1])\n",
    "final_df['Year']=final_df['Date_of_Journey'].apply(lambda x:x.split('/')[2])"
   ]
  },
  {
   "cell_type": "code",
   "execution_count": 372,
   "id": "83b80e3d-6a6c-4232-a2d9-7d139a4aca5d",
   "metadata": {},
   "outputs": [
    {
     "data": {
      "text/plain": [
       "0    24\n",
       "1     1\n",
       "2     9\n",
       "3    12\n",
       "4    01\n",
       "Name: Date , dtype: object"
      ]
     },
     "execution_count": 372,
     "metadata": {},
     "output_type": "execute_result"
    }
   ],
   "source": [
    "final_df['Date '].head()"
   ]
  },
  {
   "cell_type": "code",
   "execution_count": 373,
   "id": "d351927a-278f-4d27-b25b-df989954cc9a",
   "metadata": {},
   "outputs": [
    {
     "data": {
      "text/plain": [
       "0    03\n",
       "1    05\n",
       "2    06\n",
       "3    05\n",
       "4    03\n",
       "Name: Month, dtype: object"
      ]
     },
     "execution_count": 373,
     "metadata": {},
     "output_type": "execute_result"
    }
   ],
   "source": [
    "final_df['Month'].head()\n"
   ]
  },
  {
   "cell_type": "code",
   "execution_count": 374,
   "id": "e2f4d1b8-c0fc-4a76-885f-466fd83da4b8",
   "metadata": {},
   "outputs": [
    {
     "data": {
      "text/plain": [
       "0    2019\n",
       "1    2019\n",
       "2    2019\n",
       "3    2019\n",
       "4    2019\n",
       "Name: Year, dtype: object"
      ]
     },
     "execution_count": 374,
     "metadata": {},
     "output_type": "execute_result"
    }
   ],
   "source": [
    "final_df['Year'].head()"
   ]
  },
  {
   "cell_type": "code",
   "execution_count": 375,
   "id": "4cdd9d8a-f15e-4521-95cd-de76eff1e4a1",
   "metadata": {},
   "outputs": [
    {
     "name": "stdout",
     "output_type": "stream",
     "text": [
      "<class 'pandas.core.frame.DataFrame'>\n",
      "RangeIndex: 13354 entries, 0 to 13353\n",
      "Data columns (total 14 columns):\n",
      " #   Column           Non-Null Count  Dtype  \n",
      "---  ------           --------------  -----  \n",
      " 0   Airline          13354 non-null  object \n",
      " 1   Date_of_Journey  13354 non-null  object \n",
      " 2   Source           13354 non-null  object \n",
      " 3   Destination      13354 non-null  object \n",
      " 4   Route            13353 non-null  object \n",
      " 5   Dep_Time         13354 non-null  object \n",
      " 6   Arrival_Time     13354 non-null  object \n",
      " 7   Duration         13354 non-null  object \n",
      " 8   Total_Stops      13353 non-null  object \n",
      " 9   Additional_Info  13354 non-null  object \n",
      " 10  Price            10683 non-null  float64\n",
      " 11  Date             13354 non-null  object \n",
      " 12  Month            13354 non-null  object \n",
      " 13  Year             13354 non-null  object \n",
      "dtypes: float64(1), object(13)\n",
      "memory usage: 1.4+ MB\n"
     ]
    }
   ],
   "source": [
    "final_df.info()"
   ]
  },
  {
   "cell_type": "markdown",
   "id": "a5e3ff6d-e401-4ac2-ae27-33518cc8e92f",
   "metadata": {},
   "source": [
    "### We have to convert into integer"
   ]
  },
  {
   "cell_type": "code",
   "execution_count": 376,
   "id": "d709574e-5ee8-4f89-ab84-41c553e86c9a",
   "metadata": {},
   "outputs": [],
   "source": [
    "\n",
    "final_df['Date ']=final_df['Date '].astype(int)\n",
    "final_df['Month']=final_df['Month'].astype(int)\n",
    "final_df['Year']=final_df['Year'].astype(int)"
   ]
  },
  {
   "cell_type": "code",
   "execution_count": 377,
   "id": "cbef593a-78ee-4f1f-9d69-92b5a0c63e0e",
   "metadata": {},
   "outputs": [
    {
     "name": "stdout",
     "output_type": "stream",
     "text": [
      "<class 'pandas.core.frame.DataFrame'>\n",
      "RangeIndex: 13354 entries, 0 to 13353\n",
      "Data columns (total 14 columns):\n",
      " #   Column           Non-Null Count  Dtype  \n",
      "---  ------           --------------  -----  \n",
      " 0   Airline          13354 non-null  object \n",
      " 1   Date_of_Journey  13354 non-null  object \n",
      " 2   Source           13354 non-null  object \n",
      " 3   Destination      13354 non-null  object \n",
      " 4   Route            13353 non-null  object \n",
      " 5   Dep_Time         13354 non-null  object \n",
      " 6   Arrival_Time     13354 non-null  object \n",
      " 7   Duration         13354 non-null  object \n",
      " 8   Total_Stops      13353 non-null  object \n",
      " 9   Additional_Info  13354 non-null  object \n",
      " 10  Price            10683 non-null  float64\n",
      " 11  Date             13354 non-null  int32  \n",
      " 12  Month            13354 non-null  int32  \n",
      " 13  Year             13354 non-null  int32  \n",
      "dtypes: float64(1), int32(3), object(10)\n",
      "memory usage: 1.3+ MB\n"
     ]
    }
   ],
   "source": [
    "final_df.info()"
   ]
  },
  {
   "cell_type": "markdown",
   "id": "28893f98-ca65-4e06-a0d9-1002d6dec8ef",
   "metadata": {},
   "source": [
    "##### We already the column coverted into three column that's why we can remove the column 'Date_of_Journey'"
   ]
  },
  {
   "cell_type": "code",
   "execution_count": 378,
   "id": "498c31d3-7098-4ddc-a971-836060545be0",
   "metadata": {},
   "outputs": [],
   "source": [
    "final_df.drop('Date_of_Journey',axis=1,inplace=True)"
   ]
  },
  {
   "cell_type": "code",
   "execution_count": 379,
   "id": "91356731-41ce-49c3-8734-5b01b2a68cbd",
   "metadata": {},
   "outputs": [
    {
     "data": {
      "text/html": [
       "<div>\n",
       "<style scoped>\n",
       "    .dataframe tbody tr th:only-of-type {\n",
       "        vertical-align: middle;\n",
       "    }\n",
       "\n",
       "    .dataframe tbody tr th {\n",
       "        vertical-align: top;\n",
       "    }\n",
       "\n",
       "    .dataframe thead th {\n",
       "        text-align: right;\n",
       "    }\n",
       "</style>\n",
       "<table border=\"1\" class=\"dataframe\">\n",
       "  <thead>\n",
       "    <tr style=\"text-align: right;\">\n",
       "      <th></th>\n",
       "      <th>Airline</th>\n",
       "      <th>Source</th>\n",
       "      <th>Destination</th>\n",
       "      <th>Route</th>\n",
       "      <th>Dep_Time</th>\n",
       "      <th>Arrival_Time</th>\n",
       "      <th>Duration</th>\n",
       "      <th>Total_Stops</th>\n",
       "      <th>Additional_Info</th>\n",
       "      <th>Price</th>\n",
       "      <th>Date</th>\n",
       "      <th>Month</th>\n",
       "      <th>Year</th>\n",
       "    </tr>\n",
       "  </thead>\n",
       "  <tbody>\n",
       "    <tr>\n",
       "      <th>0</th>\n",
       "      <td>IndiGo</td>\n",
       "      <td>Banglore</td>\n",
       "      <td>New Delhi</td>\n",
       "      <td>BLR → DEL</td>\n",
       "      <td>22:20</td>\n",
       "      <td>01:10 22 Mar</td>\n",
       "      <td>2h 50m</td>\n",
       "      <td>non-stop</td>\n",
       "      <td>No info</td>\n",
       "      <td>3897.0</td>\n",
       "      <td>24</td>\n",
       "      <td>3</td>\n",
       "      <td>2019</td>\n",
       "    </tr>\n",
       "    <tr>\n",
       "      <th>1</th>\n",
       "      <td>Air India</td>\n",
       "      <td>Kolkata</td>\n",
       "      <td>Banglore</td>\n",
       "      <td>CCU → IXR → BBI → BLR</td>\n",
       "      <td>05:50</td>\n",
       "      <td>13:15</td>\n",
       "      <td>7h 25m</td>\n",
       "      <td>2 stops</td>\n",
       "      <td>No info</td>\n",
       "      <td>7662.0</td>\n",
       "      <td>1</td>\n",
       "      <td>5</td>\n",
       "      <td>2019</td>\n",
       "    </tr>\n",
       "    <tr>\n",
       "      <th>2</th>\n",
       "      <td>Jet Airways</td>\n",
       "      <td>Delhi</td>\n",
       "      <td>Cochin</td>\n",
       "      <td>DEL → LKO → BOM → COK</td>\n",
       "      <td>09:25</td>\n",
       "      <td>04:25 10 Jun</td>\n",
       "      <td>19h</td>\n",
       "      <td>2 stops</td>\n",
       "      <td>No info</td>\n",
       "      <td>13882.0</td>\n",
       "      <td>9</td>\n",
       "      <td>6</td>\n",
       "      <td>2019</td>\n",
       "    </tr>\n",
       "    <tr>\n",
       "      <th>3</th>\n",
       "      <td>IndiGo</td>\n",
       "      <td>Kolkata</td>\n",
       "      <td>Banglore</td>\n",
       "      <td>CCU → NAG → BLR</td>\n",
       "      <td>18:05</td>\n",
       "      <td>23:30</td>\n",
       "      <td>5h 25m</td>\n",
       "      <td>1 stop</td>\n",
       "      <td>No info</td>\n",
       "      <td>6218.0</td>\n",
       "      <td>12</td>\n",
       "      <td>5</td>\n",
       "      <td>2019</td>\n",
       "    </tr>\n",
       "    <tr>\n",
       "      <th>4</th>\n",
       "      <td>IndiGo</td>\n",
       "      <td>Banglore</td>\n",
       "      <td>New Delhi</td>\n",
       "      <td>BLR → NAG → DEL</td>\n",
       "      <td>16:50</td>\n",
       "      <td>21:35</td>\n",
       "      <td>4h 45m</td>\n",
       "      <td>1 stop</td>\n",
       "      <td>No info</td>\n",
       "      <td>13302.0</td>\n",
       "      <td>1</td>\n",
       "      <td>3</td>\n",
       "      <td>2019</td>\n",
       "    </tr>\n",
       "  </tbody>\n",
       "</table>\n",
       "</div>"
      ],
      "text/plain": [
       "       Airline    Source Destination                  Route Dep_Time  \\\n",
       "0       IndiGo  Banglore   New Delhi              BLR → DEL    22:20   \n",
       "1    Air India   Kolkata    Banglore  CCU → IXR → BBI → BLR    05:50   \n",
       "2  Jet Airways     Delhi      Cochin  DEL → LKO → BOM → COK    09:25   \n",
       "3       IndiGo   Kolkata    Banglore        CCU → NAG → BLR    18:05   \n",
       "4       IndiGo  Banglore   New Delhi        BLR → NAG → DEL    16:50   \n",
       "\n",
       "   Arrival_Time Duration Total_Stops Additional_Info    Price  Date   Month  \\\n",
       "0  01:10 22 Mar   2h 50m    non-stop         No info   3897.0     24      3   \n",
       "1         13:15   7h 25m     2 stops         No info   7662.0      1      5   \n",
       "2  04:25 10 Jun      19h     2 stops         No info  13882.0      9      6   \n",
       "3         23:30   5h 25m      1 stop         No info   6218.0     12      5   \n",
       "4         21:35   4h 45m      1 stop         No info  13302.0      1      3   \n",
       "\n",
       "   Year  \n",
       "0  2019  \n",
       "1  2019  \n",
       "2  2019  \n",
       "3  2019  \n",
       "4  2019  "
      ]
     },
     "execution_count": 379,
     "metadata": {},
     "output_type": "execute_result"
    }
   ],
   "source": [
    "final_df.head()"
   ]
  },
  {
   "cell_type": "code",
   "execution_count": 380,
   "id": "a9e030f0-902e-46b5-91cb-5665e0f942f7",
   "metadata": {},
   "outputs": [
    {
     "name": "stderr",
     "output_type": "stream",
     "text": [
      "C:\\Users\\DELL\\AppData\\Local\\Temp\\ipykernel_24092\\1351930252.py:5: FutureWarning: \n",
      "\n",
      "Passing `palette` without assigning `hue` is deprecated and will be removed in v0.14.0. Assign the `x` variable to `hue` and set `legend=False` for the same effect.\n",
      "\n",
      "  sns.countplot(x='Month',data=final_df,palette=mycolors)\n"
     ]
    },
    {
     "data": {
      "text/plain": [
       "<Axes: title={'center': 'Number of Flight In Each Month'}, xlabel='Month', ylabel='Count'>"
      ]
     },
     "execution_count": 380,
     "metadata": {},
     "output_type": "execute_result"
    },
    {
     "data": {
      "image/png": "[encoded data removed]",
      "text/plain": [
       "<Figure size 640x480 with 1 Axes>"
      ]
     },
     "metadata": {},
     "output_type": "display_data"
    }
   ],
   "source": [
    "plt.title('Number of Flight In Each Month')\n",
    "plt.xlabel('Month')\n",
    "plt.ylabel('Count')\n",
    "mycolors=['r','y','b','g']\n",
    "sns.countplot(x='Month',data=final_df,palette=mycolors)"
   ]
  },
  {
   "cell_type": "markdown",
   "id": "383a1f7d-2d5c-4609-8d1f-19501abfc415",
   "metadata": {},
   "source": [
    "### Inference\n",
    "##### Here We can understand May has most number of flight "
   ]
  },
  {
   "cell_type": "code",
   "execution_count": 426,
   "id": "c2e8c7a7-d6b7-4c05-8022-f433de689eaa",
   "metadata": {},
   "outputs": [
    {
     "data": {
      "text/plain": [
       "([0, 1, 2, 3, 4, 5, 6, 7, 8, 9, 10, 11],\n",
       " [Text(0, 0, 'IndiGo'),\n",
       "  Text(1, 0, 'Air India'),\n",
       "  Text(2, 0, 'Jet Airways'),\n",
       "  Text(3, 0, 'SpiceJet'),\n",
       "  Text(4, 0, 'Multiple carriers'),\n",
       "  Text(5, 0, 'GoAir'),\n",
       "  Text(6, 0, 'Vistara'),\n",
       "  Text(7, 0, 'Air Asia'),\n",
       "  Text(8, 0, 'Vistara Premium economy'),\n",
       "  Text(9, 0, 'Jet Airways Business'),\n",
       "  Text(10, 0, 'Multiple carriers Premium economy'),\n",
       "  Text(11, 0, 'Trujet')])"
      ]
     },
     "execution_count": 426,
     "metadata": {},
     "output_type": "execute_result"
    },
    {
     "data": {
      "image/png": "[encoded data removed]",
      "text/plain": [
       "<Figure size 1500x400 with 1 Axes>"
      ]
     },
     "metadata": {},
     "output_type": "display_data"
    }
   ],
   "source": [
    "#ploting Airline and Price\n",
    "plt.figure(figsize=(15,4))\n",
    "plt.title('Airline VS Price')\n",
    "plt.xlabel('Airline')\n",
    "plt.ylabel('Price')\n",
    "plt.scatter(train_df['Airline'],train_df['Price'])\n",
    "plt.xticks(rotation=90)"
   ]
  },
  {
   "cell_type": "markdown",
   "id": "97ff5a64-2eb7-4d07-be1a-85893f91f3fb",
   "metadata": {},
   "source": [
    "### Inference:\n",
    "##### Here We can Jet Airways Business has most price outlier and least is Trujet"
   ]
  },
  {
   "cell_type": "code",
   "execution_count": 381,
   "id": "8db7ce14-3f7c-4382-be00-847c6f220d0e",
   "metadata": {},
   "outputs": [],
   "source": [
    "#Apply feature engneering to 'Arrival_Time' column\n",
    "final_df['Arrival_Time']=final_df['Arrival_Time'].apply(lambda x:x.split(' ')[0])\n",
    "#from like this value 01:10 22 Mar,13:15 , we select only this values 01:10,13:15"
   ]
  },
  {
   "cell_type": "code",
   "execution_count": 382,
   "id": "7bcf7c65-5b1c-425c-aab5-da0e9ab67417",
   "metadata": {},
   "outputs": [
    {
     "data": {
      "text/plain": [
       "0    01:10\n",
       "1    13:15\n",
       "2    04:25\n",
       "3    23:30\n",
       "4    21:35\n",
       "Name: Arrival_Time, dtype: object"
      ]
     },
     "execution_count": 382,
     "metadata": {},
     "output_type": "execute_result"
    }
   ],
   "source": [
    "final_df['Arrival_Time'].head()"
   ]
  },
  {
   "cell_type": "markdown",
   "id": "4a2238c6-ea8e-47a6-917f-6c948392fe8c",
   "metadata": {},
   "source": [
    "### Which column has null value"
   ]
  },
  {
   "cell_type": "code",
   "execution_count": 383,
   "id": "9957eb96-5289-4d58-841a-54f16c1ab61f",
   "metadata": {},
   "outputs": [
    {
     "data": {
      "text/plain": [
       "Airline               0\n",
       "Source                0\n",
       "Destination           0\n",
       "Route                 1\n",
       "Dep_Time              0\n",
       "Arrival_Time          0\n",
       "Duration              0\n",
       "Total_Stops           1\n",
       "Additional_Info       0\n",
       "Price              2671\n",
       "Date                  0\n",
       "Month                 0\n",
       "Year                  0\n",
       "dtype: int64"
      ]
     },
     "execution_count": 383,
     "metadata": {},
     "output_type": "execute_result"
    }
   ],
   "source": [
    "final_df.isnull().sum()"
   ]
  },
  {
   "cell_type": "code",
   "execution_count": 384,
   "id": "d3958b5d-5363-4c4d-98f0-d13270d81002",
   "metadata": {},
   "outputs": [],
   "source": [
    "# we create seperate columns'Arrival_hour' and 'Arrival_minute'\n",
    "final_df['Arrival_hour']=final_df['Arrival_Time'].apply(lambda x:x.split(':')[0])\n",
    "final_df['Arrival_minute']=final_df['Arrival_Time'].apply(lambda x:x.split(':')[1])"
   ]
  },
  {
   "cell_type": "code",
   "execution_count": 385,
   "id": "cf8441d2-4a95-4275-a53a-1e86ce973f5f",
   "metadata": {},
   "outputs": [
    {
     "data": {
      "text/html": [
       "<div>\n",
       "<style scoped>\n",
       "    .dataframe tbody tr th:only-of-type {\n",
       "        vertical-align: middle;\n",
       "    }\n",
       "\n",
       "    .dataframe tbody tr th {\n",
       "        vertical-align: top;\n",
       "    }\n",
       "\n",
       "    .dataframe thead th {\n",
       "        text-align: right;\n",
       "    }\n",
       "</style>\n",
       "<table border=\"1\" class=\"dataframe\">\n",
       "  <thead>\n",
       "    <tr style=\"text-align: right;\">\n",
       "      <th></th>\n",
       "      <th>Airline</th>\n",
       "      <th>Source</th>\n",
       "      <th>Destination</th>\n",
       "      <th>Route</th>\n",
       "      <th>Dep_Time</th>\n",
       "      <th>Arrival_Time</th>\n",
       "      <th>Duration</th>\n",
       "      <th>Total_Stops</th>\n",
       "      <th>Additional_Info</th>\n",
       "      <th>Price</th>\n",
       "      <th>Date</th>\n",
       "      <th>Month</th>\n",
       "      <th>Year</th>\n",
       "      <th>Arrival_hour</th>\n",
       "      <th>Arrival_minute</th>\n",
       "    </tr>\n",
       "  </thead>\n",
       "  <tbody>\n",
       "    <tr>\n",
       "      <th>0</th>\n",
       "      <td>IndiGo</td>\n",
       "      <td>Banglore</td>\n",
       "      <td>New Delhi</td>\n",
       "      <td>BLR → DEL</td>\n",
       "      <td>22:20</td>\n",
       "      <td>01:10</td>\n",
       "      <td>2h 50m</td>\n",
       "      <td>non-stop</td>\n",
       "      <td>No info</td>\n",
       "      <td>3897.0</td>\n",
       "      <td>24</td>\n",
       "      <td>3</td>\n",
       "      <td>2019</td>\n",
       "      <td>01</td>\n",
       "      <td>10</td>\n",
       "    </tr>\n",
       "    <tr>\n",
       "      <th>1</th>\n",
       "      <td>Air India</td>\n",
       "      <td>Kolkata</td>\n",
       "      <td>Banglore</td>\n",
       "      <td>CCU → IXR → BBI → BLR</td>\n",
       "      <td>05:50</td>\n",
       "      <td>13:15</td>\n",
       "      <td>7h 25m</td>\n",
       "      <td>2 stops</td>\n",
       "      <td>No info</td>\n",
       "      <td>7662.0</td>\n",
       "      <td>1</td>\n",
       "      <td>5</td>\n",
       "      <td>2019</td>\n",
       "      <td>13</td>\n",
       "      <td>15</td>\n",
       "    </tr>\n",
       "    <tr>\n",
       "      <th>2</th>\n",
       "      <td>Jet Airways</td>\n",
       "      <td>Delhi</td>\n",
       "      <td>Cochin</td>\n",
       "      <td>DEL → LKO → BOM → COK</td>\n",
       "      <td>09:25</td>\n",
       "      <td>04:25</td>\n",
       "      <td>19h</td>\n",
       "      <td>2 stops</td>\n",
       "      <td>No info</td>\n",
       "      <td>13882.0</td>\n",
       "      <td>9</td>\n",
       "      <td>6</td>\n",
       "      <td>2019</td>\n",
       "      <td>04</td>\n",
       "      <td>25</td>\n",
       "    </tr>\n",
       "    <tr>\n",
       "      <th>3</th>\n",
       "      <td>IndiGo</td>\n",
       "      <td>Kolkata</td>\n",
       "      <td>Banglore</td>\n",
       "      <td>CCU → NAG → BLR</td>\n",
       "      <td>18:05</td>\n",
       "      <td>23:30</td>\n",
       "      <td>5h 25m</td>\n",
       "      <td>1 stop</td>\n",
       "      <td>No info</td>\n",
       "      <td>6218.0</td>\n",
       "      <td>12</td>\n",
       "      <td>5</td>\n",
       "      <td>2019</td>\n",
       "      <td>23</td>\n",
       "      <td>30</td>\n",
       "    </tr>\n",
       "    <tr>\n",
       "      <th>4</th>\n",
       "      <td>IndiGo</td>\n",
       "      <td>Banglore</td>\n",
       "      <td>New Delhi</td>\n",
       "      <td>BLR → NAG → DEL</td>\n",
       "      <td>16:50</td>\n",
       "      <td>21:35</td>\n",
       "      <td>4h 45m</td>\n",
       "      <td>1 stop</td>\n",
       "      <td>No info</td>\n",
       "      <td>13302.0</td>\n",
       "      <td>1</td>\n",
       "      <td>3</td>\n",
       "      <td>2019</td>\n",
       "      <td>21</td>\n",
       "      <td>35</td>\n",
       "    </tr>\n",
       "  </tbody>\n",
       "</table>\n",
       "</div>"
      ],
      "text/plain": [
       "       Airline    Source Destination                  Route Dep_Time  \\\n",
       "0       IndiGo  Banglore   New Delhi              BLR → DEL    22:20   \n",
       "1    Air India   Kolkata    Banglore  CCU → IXR → BBI → BLR    05:50   \n",
       "2  Jet Airways     Delhi      Cochin  DEL → LKO → BOM → COK    09:25   \n",
       "3       IndiGo   Kolkata    Banglore        CCU → NAG → BLR    18:05   \n",
       "4       IndiGo  Banglore   New Delhi        BLR → NAG → DEL    16:50   \n",
       "\n",
       "  Arrival_Time Duration Total_Stops Additional_Info    Price  Date   Month  \\\n",
       "0        01:10   2h 50m    non-stop         No info   3897.0     24      3   \n",
       "1        13:15   7h 25m     2 stops         No info   7662.0      1      5   \n",
       "2        04:25      19h     2 stops         No info  13882.0      9      6   \n",
       "3        23:30   5h 25m      1 stop         No info   6218.0     12      5   \n",
       "4        21:35   4h 45m      1 stop         No info  13302.0      1      3   \n",
       "\n",
       "   Year Arrival_hour Arrival_minute  \n",
       "0  2019           01             10  \n",
       "1  2019           13             15  \n",
       "2  2019           04             25  \n",
       "3  2019           23             30  \n",
       "4  2019           21             35  "
      ]
     },
     "execution_count": 385,
     "metadata": {},
     "output_type": "execute_result"
    }
   ],
   "source": [
    "final_df.head()"
   ]
  },
  {
   "cell_type": "code",
   "execution_count": 386,
   "id": "2e9773a4-79a2-4fd7-8b6c-97656a6a0f80",
   "metadata": {},
   "outputs": [
    {
     "name": "stderr",
     "output_type": "stream",
     "text": [
      "C:\\Users\\DELL\\AppData\\Local\\Temp\\ipykernel_24092\\1034595946.py:6: FutureWarning: \n",
      "\n",
      "Passing `palette` without assigning `hue` is deprecated and will be removed in v0.14.0. Assign the `x` variable to `hue` and set `legend=False` for the same effect.\n",
      "\n",
      "  sns.countplot(x='Airline',data=final_df,palette='Set1')\n"
     ]
    },
    {
     "data": {
      "text/plain": [
       "([0, 1, 2, 3, 4, 5, 6, 7, 8, 9, 10, 11],\n",
       " [Text(0, 0, 'IndiGo'),\n",
       "  Text(1, 0, 'Air India'),\n",
       "  Text(2, 0, 'Jet Airways'),\n",
       "  Text(3, 0, 'SpiceJet'),\n",
       "  Text(4, 0, 'Multiple carriers'),\n",
       "  Text(5, 0, 'GoAir'),\n",
       "  Text(6, 0, 'Vistara'),\n",
       "  Text(7, 0, 'Air Asia'),\n",
       "  Text(8, 0, 'Vistara Premium economy'),\n",
       "  Text(9, 0, 'Jet Airways Business'),\n",
       "  Text(10, 0, 'Multiple carriers Premium economy'),\n",
       "  Text(11, 0, 'Trujet')])"
      ]
     },
     "execution_count": 386,
     "metadata": {},
     "output_type": "execute_result"
    },
    {
     "data": {
      "image/png": "[encoded data removed]",
      "text/plain": [
       "<Figure size 2000x500 with 1 Axes>"
      ]
     },
     "metadata": {},
     "output_type": "display_data"
    }
   ],
   "source": [
    "## Ploting count Vs Airlines\n",
    "plt.figure(figsize = (20,5))\n",
    "plt.xlabel('Airlines')\n",
    "plt.ylabel('Count')\n",
    "plt.title('Airlines Count')\n",
    "sns.countplot(x='Airline',data=final_df,palette='Set1')\n",
    "plt.xticks(rotation=45)"
   ]
  },
  {
   "cell_type": "markdown",
   "id": "ea858551-c296-4c3f-ba8c-0d57ee1ecc8b",
   "metadata": {},
   "source": [
    "Inference: Now from the above graph we can see that between the type pf airline and count of flights we can see that Jet airways has the most flight boarded."
   ]
  },
  {
   "cell_type": "code",
   "execution_count": 387,
   "id": "c0bd9b3c-ab55-42f8-b882-74d6c92808be",
   "metadata": {},
   "outputs": [
    {
     "name": "stdout",
     "output_type": "stream",
     "text": [
      "<class 'pandas.core.frame.DataFrame'>\n",
      "RangeIndex: 13354 entries, 0 to 13353\n",
      "Data columns (total 15 columns):\n",
      " #   Column           Non-Null Count  Dtype  \n",
      "---  ------           --------------  -----  \n",
      " 0   Airline          13354 non-null  object \n",
      " 1   Source           13354 non-null  object \n",
      " 2   Destination      13354 non-null  object \n",
      " 3   Route            13353 non-null  object \n",
      " 4   Dep_Time         13354 non-null  object \n",
      " 5   Arrival_Time     13354 non-null  object \n",
      " 6   Duration         13354 non-null  object \n",
      " 7   Total_Stops      13353 non-null  object \n",
      " 8   Additional_Info  13354 non-null  object \n",
      " 9   Price            10683 non-null  float64\n",
      " 10  Date             13354 non-null  int32  \n",
      " 11  Month            13354 non-null  int32  \n",
      " 12  Year             13354 non-null  int32  \n",
      " 13  Arrival_hour     13354 non-null  object \n",
      " 14  Arrival_minute   13354 non-null  object \n",
      "dtypes: float64(1), int32(3), object(11)\n",
      "memory usage: 1.4+ MB\n"
     ]
    }
   ],
   "source": [
    "final_df.info()"
   ]
  },
  {
   "cell_type": "code",
   "execution_count": 388,
   "id": "cc505f74-48a4-4585-9c88-ac8e8202de6e",
   "metadata": {},
   "outputs": [],
   "source": [
    "# we have to convert it into integer type\n",
    "final_df['Arrival_hour']=final_df['Arrival_hour'].astype(int)\n",
    "final_df['Arrival_minute']=final_df['Arrival_minute'].astype(int)"
   ]
  },
  {
   "cell_type": "code",
   "execution_count": 389,
   "id": "f9dcdf25-dc71-46eb-ae81-0df9ef2e5ab5",
   "metadata": {},
   "outputs": [],
   "source": [
    "# Removing Arrival_Time column\n",
    "final_df.drop('Arrival_Time',axis=1,inplace=True)"
   ]
  },
  {
   "cell_type": "markdown",
   "id": "97ffd1c2-33ea-4229-a66f-12d6e6040f20",
   "metadata": {},
   "source": [
    "* create new columns'Dept_hour'  'Dept_min' from  'Dep_Time'\n",
    "* Convert the data type into integer\n",
    "* We remove the old Dep_Time column"
   ]
  },
  {
   "cell_type": "code",
   "execution_count": 390,
   "id": "5bffff1e-5758-458b-aea7-6d9f6be41b79",
   "metadata": {},
   "outputs": [],
   "source": [
    "\n",
    "final_df['Dept_hour']=final_df['Dep_Time'].apply(lambda x:x.split(':')[0])\n",
    "final_df['Dept_min']=final_df['Dep_Time'].apply(lambda x:x.split(':')[1])\n",
    "final_df['Dept_hour']=final_df['Dept_hour'].astype(int)\n",
    "final_df['Dept_min']=final_df['Dept_min'].astype(int)\n",
    "final_df.drop('Dep_Time',axis=1,inplace=True)"
   ]
  },
  {
   "cell_type": "code",
   "execution_count": 391,
   "id": "fb0ac2be-7f4c-432b-aeb9-cfe00076b480",
   "metadata": {},
   "outputs": [
    {
     "name": "stdout",
     "output_type": "stream",
     "text": [
      "<class 'pandas.core.frame.DataFrame'>\n",
      "RangeIndex: 13354 entries, 0 to 13353\n",
      "Data columns (total 15 columns):\n",
      " #   Column           Non-Null Count  Dtype  \n",
      "---  ------           --------------  -----  \n",
      " 0   Airline          13354 non-null  object \n",
      " 1   Source           13354 non-null  object \n",
      " 2   Destination      13354 non-null  object \n",
      " 3   Route            13353 non-null  object \n",
      " 4   Duration         13354 non-null  object \n",
      " 5   Total_Stops      13353 non-null  object \n",
      " 6   Additional_Info  13354 non-null  object \n",
      " 7   Price            10683 non-null  float64\n",
      " 8   Date             13354 non-null  int32  \n",
      " 9   Month            13354 non-null  int32  \n",
      " 10  Year             13354 non-null  int32  \n",
      " 11  Arrival_hour     13354 non-null  int32  \n",
      " 12  Arrival_minute   13354 non-null  int32  \n",
      " 13  Dept_hour        13354 non-null  int32  \n",
      " 14  Dept_min         13354 non-null  int32  \n",
      "dtypes: float64(1), int32(7), object(7)\n",
      "memory usage: 1.2+ MB\n"
     ]
    }
   ],
   "source": [
    "final_df.info()"
   ]
  },
  {
   "cell_type": "code",
   "execution_count": 392,
   "id": "cbe7f0d6-1442-4d26-9207-6e84cef37879",
   "metadata": {},
   "outputs": [
    {
     "data": {
      "text/html": [
       "<div>\n",
       "<style scoped>\n",
       "    .dataframe tbody tr th:only-of-type {\n",
       "        vertical-align: middle;\n",
       "    }\n",
       "\n",
       "    .dataframe tbody tr th {\n",
       "        vertical-align: top;\n",
       "    }\n",
       "\n",
       "    .dataframe thead th {\n",
       "        text-align: right;\n",
       "    }\n",
       "</style>\n",
       "<table border=\"1\" class=\"dataframe\">\n",
       "  <thead>\n",
       "    <tr style=\"text-align: right;\">\n",
       "      <th></th>\n",
       "      <th>Airline</th>\n",
       "      <th>Source</th>\n",
       "      <th>Destination</th>\n",
       "      <th>Route</th>\n",
       "      <th>Duration</th>\n",
       "      <th>Total_Stops</th>\n",
       "      <th>Additional_Info</th>\n",
       "      <th>Price</th>\n",
       "      <th>Date</th>\n",
       "      <th>Month</th>\n",
       "      <th>Year</th>\n",
       "      <th>Arrival_hour</th>\n",
       "      <th>Arrival_minute</th>\n",
       "      <th>Dept_hour</th>\n",
       "      <th>Dept_min</th>\n",
       "    </tr>\n",
       "  </thead>\n",
       "  <tbody>\n",
       "    <tr>\n",
       "      <th>0</th>\n",
       "      <td>IndiGo</td>\n",
       "      <td>Banglore</td>\n",
       "      <td>New Delhi</td>\n",
       "      <td>BLR → DEL</td>\n",
       "      <td>2h 50m</td>\n",
       "      <td>non-stop</td>\n",
       "      <td>No info</td>\n",
       "      <td>3897.0</td>\n",
       "      <td>24</td>\n",
       "      <td>3</td>\n",
       "      <td>2019</td>\n",
       "      <td>1</td>\n",
       "      <td>10</td>\n",
       "      <td>22</td>\n",
       "      <td>20</td>\n",
       "    </tr>\n",
       "    <tr>\n",
       "      <th>1</th>\n",
       "      <td>Air India</td>\n",
       "      <td>Kolkata</td>\n",
       "      <td>Banglore</td>\n",
       "      <td>CCU → IXR → BBI → BLR</td>\n",
       "      <td>7h 25m</td>\n",
       "      <td>2 stops</td>\n",
       "      <td>No info</td>\n",
       "      <td>7662.0</td>\n",
       "      <td>1</td>\n",
       "      <td>5</td>\n",
       "      <td>2019</td>\n",
       "      <td>13</td>\n",
       "      <td>15</td>\n",
       "      <td>5</td>\n",
       "      <td>50</td>\n",
       "    </tr>\n",
       "    <tr>\n",
       "      <th>2</th>\n",
       "      <td>Jet Airways</td>\n",
       "      <td>Delhi</td>\n",
       "      <td>Cochin</td>\n",
       "      <td>DEL → LKO → BOM → COK</td>\n",
       "      <td>19h</td>\n",
       "      <td>2 stops</td>\n",
       "      <td>No info</td>\n",
       "      <td>13882.0</td>\n",
       "      <td>9</td>\n",
       "      <td>6</td>\n",
       "      <td>2019</td>\n",
       "      <td>4</td>\n",
       "      <td>25</td>\n",
       "      <td>9</td>\n",
       "      <td>25</td>\n",
       "    </tr>\n",
       "    <tr>\n",
       "      <th>3</th>\n",
       "      <td>IndiGo</td>\n",
       "      <td>Kolkata</td>\n",
       "      <td>Banglore</td>\n",
       "      <td>CCU → NAG → BLR</td>\n",
       "      <td>5h 25m</td>\n",
       "      <td>1 stop</td>\n",
       "      <td>No info</td>\n",
       "      <td>6218.0</td>\n",
       "      <td>12</td>\n",
       "      <td>5</td>\n",
       "      <td>2019</td>\n",
       "      <td>23</td>\n",
       "      <td>30</td>\n",
       "      <td>18</td>\n",
       "      <td>5</td>\n",
       "    </tr>\n",
       "    <tr>\n",
       "      <th>4</th>\n",
       "      <td>IndiGo</td>\n",
       "      <td>Banglore</td>\n",
       "      <td>New Delhi</td>\n",
       "      <td>BLR → NAG → DEL</td>\n",
       "      <td>4h 45m</td>\n",
       "      <td>1 stop</td>\n",
       "      <td>No info</td>\n",
       "      <td>13302.0</td>\n",
       "      <td>1</td>\n",
       "      <td>3</td>\n",
       "      <td>2019</td>\n",
       "      <td>21</td>\n",
       "      <td>35</td>\n",
       "      <td>16</td>\n",
       "      <td>50</td>\n",
       "    </tr>\n",
       "  </tbody>\n",
       "</table>\n",
       "</div>"
      ],
      "text/plain": [
       "       Airline    Source Destination                  Route Duration  \\\n",
       "0       IndiGo  Banglore   New Delhi              BLR → DEL   2h 50m   \n",
       "1    Air India   Kolkata    Banglore  CCU → IXR → BBI → BLR   7h 25m   \n",
       "2  Jet Airways     Delhi      Cochin  DEL → LKO → BOM → COK      19h   \n",
       "3       IndiGo   Kolkata    Banglore        CCU → NAG → BLR   5h 25m   \n",
       "4       IndiGo  Banglore   New Delhi        BLR → NAG → DEL   4h 45m   \n",
       "\n",
       "  Total_Stops Additional_Info    Price  Date   Month  Year  Arrival_hour  \\\n",
       "0    non-stop         No info   3897.0     24      3  2019             1   \n",
       "1     2 stops         No info   7662.0      1      5  2019            13   \n",
       "2     2 stops         No info  13882.0      9      6  2019             4   \n",
       "3      1 stop         No info   6218.0     12      5  2019            23   \n",
       "4      1 stop         No info  13302.0      1      3  2019            21   \n",
       "\n",
       "   Arrival_minute  Dept_hour  Dept_min  \n",
       "0              10         22        20  \n",
       "1              15          5        50  \n",
       "2              25          9        25  \n",
       "3              30         18         5  \n",
       "4              35         16        50  "
      ]
     },
     "execution_count": 392,
     "metadata": {},
     "output_type": "execute_result"
    }
   ],
   "source": [
    "final_df.head()"
   ]
  },
  {
   "cell_type": "code",
   "execution_count": 393,
   "id": "628466da-cf53-4420-b665-16dc1ae8145a",
   "metadata": {},
   "outputs": [
    {
     "data": {
      "text/plain": [
       "array(['non-stop', '2 stops', '1 stop', '3 stops', nan, '4 stops'],\n",
       "      dtype=object)"
      ]
     },
     "execution_count": 393,
     "metadata": {},
     "output_type": "execute_result"
    }
   ],
   "source": [
    "\n",
    "final_df['Total_Stops'].unique()"
   ]
  },
  {
   "cell_type": "code",
   "execution_count": 394,
   "id": "6fe72d1c-4e35-4836-abe9-184a1f205d40",
   "metadata": {},
   "outputs": [
    {
     "data": {
      "text/plain": [
       "1"
      ]
     },
     "execution_count": 394,
     "metadata": {},
     "output_type": "execute_result"
    }
   ],
   "source": [
    "#finding number of null value present in this column\n",
    "final_df['Total_Stops'].isnull().sum()"
   ]
  },
  {
   "cell_type": "code",
   "execution_count": 395,
   "id": "5c310716-bbce-4d34-b801-ceb86af2c98c",
   "metadata": {},
   "outputs": [
    {
     "data": {
      "text/html": [
       "<div>\n",
       "<style scoped>\n",
       "    .dataframe tbody tr th:only-of-type {\n",
       "        vertical-align: middle;\n",
       "    }\n",
       "\n",
       "    .dataframe tbody tr th {\n",
       "        vertical-align: top;\n",
       "    }\n",
       "\n",
       "    .dataframe thead th {\n",
       "        text-align: right;\n",
       "    }\n",
       "</style>\n",
       "<table border=\"1\" class=\"dataframe\">\n",
       "  <thead>\n",
       "    <tr style=\"text-align: right;\">\n",
       "      <th></th>\n",
       "      <th>Airline</th>\n",
       "      <th>Source</th>\n",
       "      <th>Destination</th>\n",
       "      <th>Route</th>\n",
       "      <th>Duration</th>\n",
       "      <th>Total_Stops</th>\n",
       "      <th>Additional_Info</th>\n",
       "      <th>Price</th>\n",
       "      <th>Date</th>\n",
       "      <th>Month</th>\n",
       "      <th>Year</th>\n",
       "      <th>Arrival_hour</th>\n",
       "      <th>Arrival_minute</th>\n",
       "      <th>Dept_hour</th>\n",
       "      <th>Dept_min</th>\n",
       "    </tr>\n",
       "  </thead>\n",
       "  <tbody>\n",
       "    <tr>\n",
       "      <th>9039</th>\n",
       "      <td>Air India</td>\n",
       "      <td>Delhi</td>\n",
       "      <td>Cochin</td>\n",
       "      <td>NaN</td>\n",
       "      <td>23h 40m</td>\n",
       "      <td>NaN</td>\n",
       "      <td>No info</td>\n",
       "      <td>7480.0</td>\n",
       "      <td>6</td>\n",
       "      <td>5</td>\n",
       "      <td>2019</td>\n",
       "      <td>9</td>\n",
       "      <td>25</td>\n",
       "      <td>9</td>\n",
       "      <td>45</td>\n",
       "    </tr>\n",
       "  </tbody>\n",
       "</table>\n",
       "</div>"
      ],
      "text/plain": [
       "        Airline Source Destination Route Duration Total_Stops Additional_Info  \\\n",
       "9039  Air India  Delhi      Cochin   NaN  23h 40m         NaN         No info   \n",
       "\n",
       "       Price  Date   Month  Year  Arrival_hour  Arrival_minute  Dept_hour  \\\n",
       "9039  7480.0      6      5  2019             9              25          9   \n",
       "\n",
       "      Dept_min  \n",
       "9039        45  "
      ]
     },
     "execution_count": 395,
     "metadata": {},
     "output_type": "execute_result"
    }
   ],
   "source": [
    "final_df[final_df['Total_Stops'].isnull()]"
   ]
  },
  {
   "cell_type": "markdown",
   "id": "f8493248-bb41-4fb5-869b-c6a0f2290c66",
   "metadata": {},
   "source": [
    "#### Encoding"
   ]
  },
  {
   "cell_type": "code",
   "execution_count": 396,
   "id": "56aad5dc-beae-4cb9-a816-4b1abe3b0ae7",
   "metadata": {},
   "outputs": [],
   "source": [
    "\n",
    "final_df['Total_Stops']=final_df['Total_Stops'].map({'non-stop':0,'1 stop':1,'2 stops':2,'3 stops':3,'NaN':0,'4 stops':4})"
   ]
  },
  {
   "cell_type": "code",
   "execution_count": 397,
   "id": "acc430ec-3b1e-4c89-9b9c-7df3216ac96d",
   "metadata": {},
   "outputs": [
    {
     "data": {
      "text/html": [
       "<div>\n",
       "<style scoped>\n",
       "    .dataframe tbody tr th:only-of-type {\n",
       "        vertical-align: middle;\n",
       "    }\n",
       "\n",
       "    .dataframe tbody tr th {\n",
       "        vertical-align: top;\n",
       "    }\n",
       "\n",
       "    .dataframe thead th {\n",
       "        text-align: right;\n",
       "    }\n",
       "</style>\n",
       "<table border=\"1\" class=\"dataframe\">\n",
       "  <thead>\n",
       "    <tr style=\"text-align: right;\">\n",
       "      <th></th>\n",
       "      <th>Airline</th>\n",
       "      <th>Source</th>\n",
       "      <th>Destination</th>\n",
       "      <th>Route</th>\n",
       "      <th>Duration</th>\n",
       "      <th>Total_Stops</th>\n",
       "      <th>Additional_Info</th>\n",
       "      <th>Price</th>\n",
       "      <th>Date</th>\n",
       "      <th>Month</th>\n",
       "      <th>Year</th>\n",
       "      <th>Arrival_hour</th>\n",
       "      <th>Arrival_minute</th>\n",
       "      <th>Dept_hour</th>\n",
       "      <th>Dept_min</th>\n",
       "    </tr>\n",
       "  </thead>\n",
       "  <tbody>\n",
       "    <tr>\n",
       "      <th>0</th>\n",
       "      <td>IndiGo</td>\n",
       "      <td>Banglore</td>\n",
       "      <td>New Delhi</td>\n",
       "      <td>BLR → DEL</td>\n",
       "      <td>2h 50m</td>\n",
       "      <td>0.0</td>\n",
       "      <td>No info</td>\n",
       "      <td>3897.0</td>\n",
       "      <td>24</td>\n",
       "      <td>3</td>\n",
       "      <td>2019</td>\n",
       "      <td>1</td>\n",
       "      <td>10</td>\n",
       "      <td>22</td>\n",
       "      <td>20</td>\n",
       "    </tr>\n",
       "    <tr>\n",
       "      <th>1</th>\n",
       "      <td>Air India</td>\n",
       "      <td>Kolkata</td>\n",
       "      <td>Banglore</td>\n",
       "      <td>CCU → IXR → BBI → BLR</td>\n",
       "      <td>7h 25m</td>\n",
       "      <td>2.0</td>\n",
       "      <td>No info</td>\n",
       "      <td>7662.0</td>\n",
       "      <td>1</td>\n",
       "      <td>5</td>\n",
       "      <td>2019</td>\n",
       "      <td>13</td>\n",
       "      <td>15</td>\n",
       "      <td>5</td>\n",
       "      <td>50</td>\n",
       "    </tr>\n",
       "    <tr>\n",
       "      <th>2</th>\n",
       "      <td>Jet Airways</td>\n",
       "      <td>Delhi</td>\n",
       "      <td>Cochin</td>\n",
       "      <td>DEL → LKO → BOM → COK</td>\n",
       "      <td>19h</td>\n",
       "      <td>2.0</td>\n",
       "      <td>No info</td>\n",
       "      <td>13882.0</td>\n",
       "      <td>9</td>\n",
       "      <td>6</td>\n",
       "      <td>2019</td>\n",
       "      <td>4</td>\n",
       "      <td>25</td>\n",
       "      <td>9</td>\n",
       "      <td>25</td>\n",
       "    </tr>\n",
       "    <tr>\n",
       "      <th>3</th>\n",
       "      <td>IndiGo</td>\n",
       "      <td>Kolkata</td>\n",
       "      <td>Banglore</td>\n",
       "      <td>CCU → NAG → BLR</td>\n",
       "      <td>5h 25m</td>\n",
       "      <td>1.0</td>\n",
       "      <td>No info</td>\n",
       "      <td>6218.0</td>\n",
       "      <td>12</td>\n",
       "      <td>5</td>\n",
       "      <td>2019</td>\n",
       "      <td>23</td>\n",
       "      <td>30</td>\n",
       "      <td>18</td>\n",
       "      <td>5</td>\n",
       "    </tr>\n",
       "    <tr>\n",
       "      <th>4</th>\n",
       "      <td>IndiGo</td>\n",
       "      <td>Banglore</td>\n",
       "      <td>New Delhi</td>\n",
       "      <td>BLR → NAG → DEL</td>\n",
       "      <td>4h 45m</td>\n",
       "      <td>1.0</td>\n",
       "      <td>No info</td>\n",
       "      <td>13302.0</td>\n",
       "      <td>1</td>\n",
       "      <td>3</td>\n",
       "      <td>2019</td>\n",
       "      <td>21</td>\n",
       "      <td>35</td>\n",
       "      <td>16</td>\n",
       "      <td>50</td>\n",
       "    </tr>\n",
       "  </tbody>\n",
       "</table>\n",
       "</div>"
      ],
      "text/plain": [
       "       Airline    Source Destination                  Route Duration  \\\n",
       "0       IndiGo  Banglore   New Delhi              BLR → DEL   2h 50m   \n",
       "1    Air India   Kolkata    Banglore  CCU → IXR → BBI → BLR   7h 25m   \n",
       "2  Jet Airways     Delhi      Cochin  DEL → LKO → BOM → COK      19h   \n",
       "3       IndiGo   Kolkata    Banglore        CCU → NAG → BLR   5h 25m   \n",
       "4       IndiGo  Banglore   New Delhi        BLR → NAG → DEL   4h 45m   \n",
       "\n",
       "   Total_Stops Additional_Info    Price  Date   Month  Year  Arrival_hour  \\\n",
       "0          0.0         No info   3897.0     24      3  2019             1   \n",
       "1          2.0         No info   7662.0      1      5  2019            13   \n",
       "2          2.0         No info  13882.0      9      6  2019             4   \n",
       "3          1.0         No info   6218.0     12      5  2019            23   \n",
       "4          1.0         No info  13302.0      1      3  2019            21   \n",
       "\n",
       "   Arrival_minute  Dept_hour  Dept_min  \n",
       "0              10         22        20  \n",
       "1              15          5        50  \n",
       "2              25          9        25  \n",
       "3              30         18         5  \n",
       "4              35         16        50  "
      ]
     },
     "execution_count": 397,
     "metadata": {},
     "output_type": "execute_result"
    }
   ],
   "source": [
    "final_df.head()"
   ]
  },
  {
   "cell_type": "code",
   "execution_count": 398,
   "id": "e6c81d85-db0f-4716-bbfe-1363b6f08da6",
   "metadata": {},
   "outputs": [],
   "source": [
    "# We no need the column 'Route' because we have that kind of information in 'Total_Stops' column.\n",
    "final_df.drop('Route',axis=1,inplace=True)"
   ]
  },
  {
   "cell_type": "code",
   "execution_count": 399,
   "id": "e895ee0b-556b-4cbf-a0a9-fb2002c60630",
   "metadata": {},
   "outputs": [
    {
     "data": {
      "text/html": [
       "<div>\n",
       "<style scoped>\n",
       "    .dataframe tbody tr th:only-of-type {\n",
       "        vertical-align: middle;\n",
       "    }\n",
       "\n",
       "    .dataframe tbody tr th {\n",
       "        vertical-align: top;\n",
       "    }\n",
       "\n",
       "    .dataframe thead th {\n",
       "        text-align: right;\n",
       "    }\n",
       "</style>\n",
       "<table border=\"1\" class=\"dataframe\">\n",
       "  <thead>\n",
       "    <tr style=\"text-align: right;\">\n",
       "      <th></th>\n",
       "      <th>Airline</th>\n",
       "      <th>Source</th>\n",
       "      <th>Destination</th>\n",
       "      <th>Duration</th>\n",
       "      <th>Total_Stops</th>\n",
       "      <th>Additional_Info</th>\n",
       "      <th>Price</th>\n",
       "      <th>Date</th>\n",
       "      <th>Month</th>\n",
       "      <th>Year</th>\n",
       "      <th>Arrival_hour</th>\n",
       "      <th>Arrival_minute</th>\n",
       "      <th>Dept_hour</th>\n",
       "      <th>Dept_min</th>\n",
       "    </tr>\n",
       "  </thead>\n",
       "  <tbody>\n",
       "    <tr>\n",
       "      <th>0</th>\n",
       "      <td>IndiGo</td>\n",
       "      <td>Banglore</td>\n",
       "      <td>New Delhi</td>\n",
       "      <td>2h 50m</td>\n",
       "      <td>0.0</td>\n",
       "      <td>No info</td>\n",
       "      <td>3897.0</td>\n",
       "      <td>24</td>\n",
       "      <td>3</td>\n",
       "      <td>2019</td>\n",
       "      <td>1</td>\n",
       "      <td>10</td>\n",
       "      <td>22</td>\n",
       "      <td>20</td>\n",
       "    </tr>\n",
       "    <tr>\n",
       "      <th>1</th>\n",
       "      <td>Air India</td>\n",
       "      <td>Kolkata</td>\n",
       "      <td>Banglore</td>\n",
       "      <td>7h 25m</td>\n",
       "      <td>2.0</td>\n",
       "      <td>No info</td>\n",
       "      <td>7662.0</td>\n",
       "      <td>1</td>\n",
       "      <td>5</td>\n",
       "      <td>2019</td>\n",
       "      <td>13</td>\n",
       "      <td>15</td>\n",
       "      <td>5</td>\n",
       "      <td>50</td>\n",
       "    </tr>\n",
       "    <tr>\n",
       "      <th>2</th>\n",
       "      <td>Jet Airways</td>\n",
       "      <td>Delhi</td>\n",
       "      <td>Cochin</td>\n",
       "      <td>19h</td>\n",
       "      <td>2.0</td>\n",
       "      <td>No info</td>\n",
       "      <td>13882.0</td>\n",
       "      <td>9</td>\n",
       "      <td>6</td>\n",
       "      <td>2019</td>\n",
       "      <td>4</td>\n",
       "      <td>25</td>\n",
       "      <td>9</td>\n",
       "      <td>25</td>\n",
       "    </tr>\n",
       "    <tr>\n",
       "      <th>3</th>\n",
       "      <td>IndiGo</td>\n",
       "      <td>Kolkata</td>\n",
       "      <td>Banglore</td>\n",
       "      <td>5h 25m</td>\n",
       "      <td>1.0</td>\n",
       "      <td>No info</td>\n",
       "      <td>6218.0</td>\n",
       "      <td>12</td>\n",
       "      <td>5</td>\n",
       "      <td>2019</td>\n",
       "      <td>23</td>\n",
       "      <td>30</td>\n",
       "      <td>18</td>\n",
       "      <td>5</td>\n",
       "    </tr>\n",
       "    <tr>\n",
       "      <th>4</th>\n",
       "      <td>IndiGo</td>\n",
       "      <td>Banglore</td>\n",
       "      <td>New Delhi</td>\n",
       "      <td>4h 45m</td>\n",
       "      <td>1.0</td>\n",
       "      <td>No info</td>\n",
       "      <td>13302.0</td>\n",
       "      <td>1</td>\n",
       "      <td>3</td>\n",
       "      <td>2019</td>\n",
       "      <td>21</td>\n",
       "      <td>35</td>\n",
       "      <td>16</td>\n",
       "      <td>50</td>\n",
       "    </tr>\n",
       "  </tbody>\n",
       "</table>\n",
       "</div>"
      ],
      "text/plain": [
       "       Airline    Source Destination Duration  Total_Stops Additional_Info  \\\n",
       "0       IndiGo  Banglore   New Delhi   2h 50m          0.0         No info   \n",
       "1    Air India   Kolkata    Banglore   7h 25m          2.0         No info   \n",
       "2  Jet Airways     Delhi      Cochin      19h          2.0         No info   \n",
       "3       IndiGo   Kolkata    Banglore   5h 25m          1.0         No info   \n",
       "4       IndiGo  Banglore   New Delhi   4h 45m          1.0         No info   \n",
       "\n",
       "     Price  Date   Month  Year  Arrival_hour  Arrival_minute  Dept_hour  \\\n",
       "0   3897.0     24      3  2019             1              10         22   \n",
       "1   7662.0      1      5  2019            13              15          5   \n",
       "2  13882.0      9      6  2019             4              25          9   \n",
       "3   6218.0     12      5  2019            23              30         18   \n",
       "4  13302.0      1      3  2019            21              35         16   \n",
       "\n",
       "   Dept_min  \n",
       "0        20  \n",
       "1        50  \n",
       "2        25  \n",
       "3         5  \n",
       "4        50  "
      ]
     },
     "execution_count": 399,
     "metadata": {},
     "output_type": "execute_result"
    }
   ],
   "source": [
    "final_df.head()"
   ]
  },
  {
   "cell_type": "code",
   "execution_count": 400,
   "id": "44266da1-13e4-4b66-a30d-5348aa64317e",
   "metadata": {},
   "outputs": [
    {
     "data": {
      "text/plain": [
       "array(['No info', 'In-flight meal not included',\n",
       "       'No check-in baggage included', '1 Short layover', 'No Info',\n",
       "       '1 Long layover', 'Change airports', 'Business class',\n",
       "       'Red-eye flight', '2 Long layover'], dtype=object)"
      ]
     },
     "execution_count": 400,
     "metadata": {},
     "output_type": "execute_result"
    }
   ],
   "source": [
    "final_df['Additional_Info'].unique()"
   ]
  },
  {
   "cell_type": "code",
   "execution_count": 401,
   "id": "12f11bb5-1edc-4bea-bdab-4af419685ef7",
   "metadata": {},
   "outputs": [
    {
     "name": "stdout",
     "output_type": "stream",
     "text": [
      "<class 'pandas.core.frame.DataFrame'>\n",
      "RangeIndex: 13354 entries, 0 to 13353\n",
      "Data columns (total 14 columns):\n",
      " #   Column           Non-Null Count  Dtype  \n",
      "---  ------           --------------  -----  \n",
      " 0   Airline          13354 non-null  object \n",
      " 1   Source           13354 non-null  object \n",
      " 2   Destination      13354 non-null  object \n",
      " 3   Duration         13354 non-null  object \n",
      " 4   Total_Stops      13353 non-null  float64\n",
      " 5   Additional_Info  13354 non-null  object \n",
      " 6   Price            10683 non-null  float64\n",
      " 7   Date             13354 non-null  int32  \n",
      " 8   Month            13354 non-null  int32  \n",
      " 9   Year             13354 non-null  int32  \n",
      " 10  Arrival_hour     13354 non-null  int32  \n",
      " 11  Arrival_minute   13354 non-null  int32  \n",
      " 12  Dept_hour        13354 non-null  int32  \n",
      " 13  Dept_min         13354 non-null  int32  \n",
      "dtypes: float64(2), int32(7), object(5)\n",
      "memory usage: 1.1+ MB\n"
     ]
    }
   ],
   "source": [
    "final_df.info()"
   ]
  },
  {
   "cell_type": "markdown",
   "id": "2e7df622-268f-44cc-81e0-f9fe6f992b2d",
   "metadata": {},
   "source": [
    "### Here We write a function to convert the \tDuration time into minute"
   ]
  },
  {
   "cell_type": "code",
   "execution_count": 402,
   "id": "5cddb299-25e4-4546-89af-c4575c023e21",
   "metadata": {},
   "outputs": [],
   "source": [
    "## convert the duration into minute\n",
    "def convert_to_minutes(duration_str):\n",
    "    parts = duration_str.split()\n",
    "    total_minutes = 0\n",
    "\n",
    "    for part in parts:\n",
    "        if 'h' in part:\n",
    "            total_minutes += int(part.replace('h', '')) * 60\n",
    "        elif 'm' in part:\n",
    "            total_minutes += int(part.replace('m', ''))\n",
    "\n",
    "    return total_minutes"
   ]
  },
  {
   "cell_type": "code",
   "execution_count": 403,
   "id": "93fec1a0-900a-482f-b5cc-cebc95b11d42",
   "metadata": {},
   "outputs": [],
   "source": [
    "final_df['duration_in_minutes'] = final_df['Duration'].apply(convert_to_minutes)"
   ]
  },
  {
   "cell_type": "code",
   "execution_count": 404,
   "id": "b4d37dac-a85d-4680-948a-1c91e1d1dbb3",
   "metadata": {},
   "outputs": [
    {
     "data": {
      "text/html": [
       "<div>\n",
       "<style scoped>\n",
       "    .dataframe tbody tr th:only-of-type {\n",
       "        vertical-align: middle;\n",
       "    }\n",
       "\n",
       "    .dataframe tbody tr th {\n",
       "        vertical-align: top;\n",
       "    }\n",
       "\n",
       "    .dataframe thead th {\n",
       "        text-align: right;\n",
       "    }\n",
       "</style>\n",
       "<table border=\"1\" class=\"dataframe\">\n",
       "  <thead>\n",
       "    <tr style=\"text-align: right;\">\n",
       "      <th></th>\n",
       "      <th>Airline</th>\n",
       "      <th>Source</th>\n",
       "      <th>Destination</th>\n",
       "      <th>Duration</th>\n",
       "      <th>Total_Stops</th>\n",
       "      <th>Additional_Info</th>\n",
       "      <th>Price</th>\n",
       "      <th>Date</th>\n",
       "      <th>Month</th>\n",
       "      <th>Year</th>\n",
       "      <th>Arrival_hour</th>\n",
       "      <th>Arrival_minute</th>\n",
       "      <th>Dept_hour</th>\n",
       "      <th>Dept_min</th>\n",
       "      <th>duration_in_minutes</th>\n",
       "    </tr>\n",
       "  </thead>\n",
       "  <tbody>\n",
       "    <tr>\n",
       "      <th>0</th>\n",
       "      <td>IndiGo</td>\n",
       "      <td>Banglore</td>\n",
       "      <td>New Delhi</td>\n",
       "      <td>2h 50m</td>\n",
       "      <td>0.0</td>\n",
       "      <td>No info</td>\n",
       "      <td>3897.0</td>\n",
       "      <td>24</td>\n",
       "      <td>3</td>\n",
       "      <td>2019</td>\n",
       "      <td>1</td>\n",
       "      <td>10</td>\n",
       "      <td>22</td>\n",
       "      <td>20</td>\n",
       "      <td>170</td>\n",
       "    </tr>\n",
       "    <tr>\n",
       "      <th>1</th>\n",
       "      <td>Air India</td>\n",
       "      <td>Kolkata</td>\n",
       "      <td>Banglore</td>\n",
       "      <td>7h 25m</td>\n",
       "      <td>2.0</td>\n",
       "      <td>No info</td>\n",
       "      <td>7662.0</td>\n",
       "      <td>1</td>\n",
       "      <td>5</td>\n",
       "      <td>2019</td>\n",
       "      <td>13</td>\n",
       "      <td>15</td>\n",
       "      <td>5</td>\n",
       "      <td>50</td>\n",
       "      <td>445</td>\n",
       "    </tr>\n",
       "    <tr>\n",
       "      <th>2</th>\n",
       "      <td>Jet Airways</td>\n",
       "      <td>Delhi</td>\n",
       "      <td>Cochin</td>\n",
       "      <td>19h</td>\n",
       "      <td>2.0</td>\n",
       "      <td>No info</td>\n",
       "      <td>13882.0</td>\n",
       "      <td>9</td>\n",
       "      <td>6</td>\n",
       "      <td>2019</td>\n",
       "      <td>4</td>\n",
       "      <td>25</td>\n",
       "      <td>9</td>\n",
       "      <td>25</td>\n",
       "      <td>1140</td>\n",
       "    </tr>\n",
       "    <tr>\n",
       "      <th>3</th>\n",
       "      <td>IndiGo</td>\n",
       "      <td>Kolkata</td>\n",
       "      <td>Banglore</td>\n",
       "      <td>5h 25m</td>\n",
       "      <td>1.0</td>\n",
       "      <td>No info</td>\n",
       "      <td>6218.0</td>\n",
       "      <td>12</td>\n",
       "      <td>5</td>\n",
       "      <td>2019</td>\n",
       "      <td>23</td>\n",
       "      <td>30</td>\n",
       "      <td>18</td>\n",
       "      <td>5</td>\n",
       "      <td>325</td>\n",
       "    </tr>\n",
       "    <tr>\n",
       "      <th>4</th>\n",
       "      <td>IndiGo</td>\n",
       "      <td>Banglore</td>\n",
       "      <td>New Delhi</td>\n",
       "      <td>4h 45m</td>\n",
       "      <td>1.0</td>\n",
       "      <td>No info</td>\n",
       "      <td>13302.0</td>\n",
       "      <td>1</td>\n",
       "      <td>3</td>\n",
       "      <td>2019</td>\n",
       "      <td>21</td>\n",
       "      <td>35</td>\n",
       "      <td>16</td>\n",
       "      <td>50</td>\n",
       "      <td>285</td>\n",
       "    </tr>\n",
       "    <tr>\n",
       "      <th>...</th>\n",
       "      <td>...</td>\n",
       "      <td>...</td>\n",
       "      <td>...</td>\n",
       "      <td>...</td>\n",
       "      <td>...</td>\n",
       "      <td>...</td>\n",
       "      <td>...</td>\n",
       "      <td>...</td>\n",
       "      <td>...</td>\n",
       "      <td>...</td>\n",
       "      <td>...</td>\n",
       "      <td>...</td>\n",
       "      <td>...</td>\n",
       "      <td>...</td>\n",
       "      <td>...</td>\n",
       "    </tr>\n",
       "    <tr>\n",
       "      <th>13349</th>\n",
       "      <td>Air India</td>\n",
       "      <td>Kolkata</td>\n",
       "      <td>Banglore</td>\n",
       "      <td>23h 55m</td>\n",
       "      <td>1.0</td>\n",
       "      <td>No info</td>\n",
       "      <td>NaN</td>\n",
       "      <td>6</td>\n",
       "      <td>6</td>\n",
       "      <td>2019</td>\n",
       "      <td>20</td>\n",
       "      <td>25</td>\n",
       "      <td>20</td>\n",
       "      <td>30</td>\n",
       "      <td>1435</td>\n",
       "    </tr>\n",
       "    <tr>\n",
       "      <th>13350</th>\n",
       "      <td>IndiGo</td>\n",
       "      <td>Kolkata</td>\n",
       "      <td>Banglore</td>\n",
       "      <td>2h 35m</td>\n",
       "      <td>0.0</td>\n",
       "      <td>No info</td>\n",
       "      <td>NaN</td>\n",
       "      <td>27</td>\n",
       "      <td>3</td>\n",
       "      <td>2019</td>\n",
       "      <td>16</td>\n",
       "      <td>55</td>\n",
       "      <td>14</td>\n",
       "      <td>20</td>\n",
       "      <td>155</td>\n",
       "    </tr>\n",
       "    <tr>\n",
       "      <th>13351</th>\n",
       "      <td>Jet Airways</td>\n",
       "      <td>Delhi</td>\n",
       "      <td>Cochin</td>\n",
       "      <td>6h 35m</td>\n",
       "      <td>1.0</td>\n",
       "      <td>No info</td>\n",
       "      <td>NaN</td>\n",
       "      <td>6</td>\n",
       "      <td>3</td>\n",
       "      <td>2019</td>\n",
       "      <td>4</td>\n",
       "      <td>25</td>\n",
       "      <td>21</td>\n",
       "      <td>50</td>\n",
       "      <td>395</td>\n",
       "    </tr>\n",
       "    <tr>\n",
       "      <th>13352</th>\n",
       "      <td>Air India</td>\n",
       "      <td>Delhi</td>\n",
       "      <td>Cochin</td>\n",
       "      <td>15h 15m</td>\n",
       "      <td>1.0</td>\n",
       "      <td>No info</td>\n",
       "      <td>NaN</td>\n",
       "      <td>6</td>\n",
       "      <td>3</td>\n",
       "      <td>2019</td>\n",
       "      <td>19</td>\n",
       "      <td>15</td>\n",
       "      <td>4</td>\n",
       "      <td>0</td>\n",
       "      <td>915</td>\n",
       "    </tr>\n",
       "    <tr>\n",
       "      <th>13353</th>\n",
       "      <td>Multiple carriers</td>\n",
       "      <td>Delhi</td>\n",
       "      <td>Cochin</td>\n",
       "      <td>14h 20m</td>\n",
       "      <td>1.0</td>\n",
       "      <td>No info</td>\n",
       "      <td>NaN</td>\n",
       "      <td>15</td>\n",
       "      <td>6</td>\n",
       "      <td>2019</td>\n",
       "      <td>19</td>\n",
       "      <td>15</td>\n",
       "      <td>4</td>\n",
       "      <td>55</td>\n",
       "      <td>860</td>\n",
       "    </tr>\n",
       "  </tbody>\n",
       "</table>\n",
       "<p>13354 rows × 15 columns</p>\n",
       "</div>"
      ],
      "text/plain": [
       "                 Airline    Source Destination Duration  Total_Stops  \\\n",
       "0                 IndiGo  Banglore   New Delhi   2h 50m          0.0   \n",
       "1              Air India   Kolkata    Banglore   7h 25m          2.0   \n",
       "2            Jet Airways     Delhi      Cochin      19h          2.0   \n",
       "3                 IndiGo   Kolkata    Banglore   5h 25m          1.0   \n",
       "4                 IndiGo  Banglore   New Delhi   4h 45m          1.0   \n",
       "...                  ...       ...         ...      ...          ...   \n",
       "13349          Air India   Kolkata    Banglore  23h 55m          1.0   \n",
       "13350             IndiGo   Kolkata    Banglore   2h 35m          0.0   \n",
       "13351        Jet Airways     Delhi      Cochin   6h 35m          1.0   \n",
       "13352          Air India     Delhi      Cochin  15h 15m          1.0   \n",
       "13353  Multiple carriers     Delhi      Cochin  14h 20m          1.0   \n",
       "\n",
       "      Additional_Info    Price  Date   Month  Year  Arrival_hour  \\\n",
       "0             No info   3897.0     24      3  2019             1   \n",
       "1             No info   7662.0      1      5  2019            13   \n",
       "2             No info  13882.0      9      6  2019             4   \n",
       "3             No info   6218.0     12      5  2019            23   \n",
       "4             No info  13302.0      1      3  2019            21   \n",
       "...               ...      ...    ...    ...   ...           ...   \n",
       "13349         No info      NaN      6      6  2019            20   \n",
       "13350         No info      NaN     27      3  2019            16   \n",
       "13351         No info      NaN      6      3  2019             4   \n",
       "13352         No info      NaN      6      3  2019            19   \n",
       "13353         No info      NaN     15      6  2019            19   \n",
       "\n",
       "       Arrival_minute  Dept_hour  Dept_min  duration_in_minutes  \n",
       "0                  10         22        20                  170  \n",
       "1                  15          5        50                  445  \n",
       "2                  25          9        25                 1140  \n",
       "3                  30         18         5                  325  \n",
       "4                  35         16        50                  285  \n",
       "...               ...        ...       ...                  ...  \n",
       "13349              25         20        30                 1435  \n",
       "13350              55         14        20                  155  \n",
       "13351              25         21        50                  395  \n",
       "13352              15          4         0                  915  \n",
       "13353              15          4        55                  860  \n",
       "\n",
       "[13354 rows x 15 columns]"
      ]
     },
     "execution_count": 404,
     "metadata": {},
     "output_type": "execute_result"
    }
   ],
   "source": [
    "final_df"
   ]
  },
  {
   "cell_type": "code",
   "execution_count": 405,
   "id": "722f76a2-de11-44ef-8841-84de16dd052f",
   "metadata": {},
   "outputs": [],
   "source": [
    "# We have to remove duration because we have durtion minute column\n",
    "final_df.drop('Duration',axis=1,inplace=True)"
   ]
  },
  {
   "cell_type": "code",
   "execution_count": 406,
   "id": "b6254587-ffc8-4145-a0a0-fdbc54f8fd0d",
   "metadata": {},
   "outputs": [
    {
     "data": {
      "text/plain": [
       "Airline                   0\n",
       "Source                    0\n",
       "Destination               0\n",
       "Total_Stops               1\n",
       "Additional_Info           0\n",
       "Price                  2671\n",
       "Date                      0\n",
       "Month                     0\n",
       "Year                      0\n",
       "Arrival_hour              0\n",
       "Arrival_minute            0\n",
       "Dept_hour                 0\n",
       "Dept_min                  0\n",
       "duration_in_minutes       0\n",
       "dtype: int64"
      ]
     },
     "execution_count": 406,
     "metadata": {},
     "output_type": "execute_result"
    }
   ],
   "source": [
    "final_df.isnull().sum()"
   ]
  },
  {
   "cell_type": "code",
   "execution_count": 407,
   "id": "7592c1cc-94af-4ca2-907f-44e3ab878fe1",
   "metadata": {},
   "outputs": [
    {
     "data": {
      "text/html": [
       "<div>\n",
       "<style scoped>\n",
       "    .dataframe tbody tr th:only-of-type {\n",
       "        vertical-align: middle;\n",
       "    }\n",
       "\n",
       "    .dataframe tbody tr th {\n",
       "        vertical-align: top;\n",
       "    }\n",
       "\n",
       "    .dataframe thead th {\n",
       "        text-align: right;\n",
       "    }\n",
       "</style>\n",
       "<table border=\"1\" class=\"dataframe\">\n",
       "  <thead>\n",
       "    <tr style=\"text-align: right;\">\n",
       "      <th></th>\n",
       "      <th>Airline</th>\n",
       "      <th>Source</th>\n",
       "      <th>Destination</th>\n",
       "      <th>Total_Stops</th>\n",
       "      <th>Additional_Info</th>\n",
       "      <th>Price</th>\n",
       "      <th>Date</th>\n",
       "      <th>Month</th>\n",
       "      <th>Year</th>\n",
       "      <th>Arrival_hour</th>\n",
       "      <th>Arrival_minute</th>\n",
       "      <th>Dept_hour</th>\n",
       "      <th>Dept_min</th>\n",
       "      <th>duration_in_minutes</th>\n",
       "    </tr>\n",
       "  </thead>\n",
       "  <tbody>\n",
       "    <tr>\n",
       "      <th>9039</th>\n",
       "      <td>Air India</td>\n",
       "      <td>Delhi</td>\n",
       "      <td>Cochin</td>\n",
       "      <td>NaN</td>\n",
       "      <td>No info</td>\n",
       "      <td>7480.0</td>\n",
       "      <td>6</td>\n",
       "      <td>5</td>\n",
       "      <td>2019</td>\n",
       "      <td>9</td>\n",
       "      <td>25</td>\n",
       "      <td>9</td>\n",
       "      <td>45</td>\n",
       "      <td>1420</td>\n",
       "    </tr>\n",
       "  </tbody>\n",
       "</table>\n",
       "</div>"
      ],
      "text/plain": [
       "        Airline Source Destination  Total_Stops Additional_Info   Price  \\\n",
       "9039  Air India  Delhi      Cochin          NaN         No info  7480.0   \n",
       "\n",
       "      Date   Month  Year  Arrival_hour  Arrival_minute  Dept_hour  Dept_min  \\\n",
       "9039      6      5  2019             9              25          9        45   \n",
       "\n",
       "      duration_in_minutes  \n",
       "9039                 1420  "
      ]
     },
     "execution_count": 407,
     "metadata": {},
     "output_type": "execute_result"
    }
   ],
   "source": [
    "final_df[final_df['Total_Stops'].isnull()]"
   ]
  },
  {
   "cell_type": "code",
   "execution_count": 408,
   "id": "d0aeb3ee-df4d-4066-95cf-6cb4f7d6dbc5",
   "metadata": {},
   "outputs": [],
   "source": [
    "final_df.loc[9039,'Total_Stops']=0\n"
   ]
  },
  {
   "cell_type": "code",
   "execution_count": 409,
   "id": "2aba1f30-a9be-4b9f-8b3a-b6829831e770",
   "metadata": {},
   "outputs": [
    {
     "data": {
      "text/html": [
       "<div>\n",
       "<style scoped>\n",
       "    .dataframe tbody tr th:only-of-type {\n",
       "        vertical-align: middle;\n",
       "    }\n",
       "\n",
       "    .dataframe tbody tr th {\n",
       "        vertical-align: top;\n",
       "    }\n",
       "\n",
       "    .dataframe thead th {\n",
       "        text-align: right;\n",
       "    }\n",
       "</style>\n",
       "<table border=\"1\" class=\"dataframe\">\n",
       "  <thead>\n",
       "    <tr style=\"text-align: right;\">\n",
       "      <th></th>\n",
       "      <th>Airline</th>\n",
       "      <th>Source</th>\n",
       "      <th>Destination</th>\n",
       "      <th>Total_Stops</th>\n",
       "      <th>Additional_Info</th>\n",
       "      <th>Price</th>\n",
       "      <th>Date</th>\n",
       "      <th>Month</th>\n",
       "      <th>Year</th>\n",
       "      <th>Arrival_hour</th>\n",
       "      <th>Arrival_minute</th>\n",
       "      <th>Dept_hour</th>\n",
       "      <th>Dept_min</th>\n",
       "      <th>duration_in_minutes</th>\n",
       "    </tr>\n",
       "  </thead>\n",
       "  <tbody>\n",
       "  </tbody>\n",
       "</table>\n",
       "</div>"
      ],
      "text/plain": [
       "Empty DataFrame\n",
       "Columns: [Airline, Source, Destination, Total_Stops, Additional_Info, Price, Date , Month, Year, Arrival_hour, Arrival_minute, Dept_hour, Dept_min, duration_in_minutes]\n",
       "Index: []"
      ]
     },
     "execution_count": 409,
     "metadata": {},
     "output_type": "execute_result"
    }
   ],
   "source": [
    "final_df[final_df['Total_Stops'].isnull()]"
   ]
  },
  {
   "cell_type": "code",
   "execution_count": 410,
   "id": "fd2800af-bb9b-41ff-962e-53da8ad28c7b",
   "metadata": {},
   "outputs": [
    {
     "name": "stdout",
     "output_type": "stream",
     "text": [
      "<class 'pandas.core.frame.DataFrame'>\n",
      "RangeIndex: 13354 entries, 0 to 13353\n",
      "Data columns (total 14 columns):\n",
      " #   Column               Non-Null Count  Dtype  \n",
      "---  ------               --------------  -----  \n",
      " 0   Airline              13354 non-null  object \n",
      " 1   Source               13354 non-null  object \n",
      " 2   Destination          13354 non-null  object \n",
      " 3   Total_Stops          13354 non-null  float64\n",
      " 4   Additional_Info      13354 non-null  object \n",
      " 5   Price                10683 non-null  float64\n",
      " 6   Date                 13354 non-null  int32  \n",
      " 7   Month                13354 non-null  int32  \n",
      " 8   Year                 13354 non-null  int32  \n",
      " 9   Arrival_hour         13354 non-null  int32  \n",
      " 10  Arrival_minute       13354 non-null  int32  \n",
      " 11  Dept_hour            13354 non-null  int32  \n",
      " 12  Dept_min             13354 non-null  int32  \n",
      " 13  duration_in_minutes  13354 non-null  int64  \n",
      "dtypes: float64(2), int32(7), int64(1), object(4)\n",
      "memory usage: 1.1+ MB\n"
     ]
    }
   ],
   "source": [
    "final_df.info()"
   ]
  },
  {
   "cell_type": "code",
   "execution_count": 411,
   "id": "fbc97a07-9aee-4b99-aea6-9c9a8a9ff109",
   "metadata": {},
   "outputs": [
    {
     "data": {
      "text/plain": [
       "array(['IndiGo', 'Air India', 'Jet Airways', 'SpiceJet',\n",
       "       'Multiple carriers', 'GoAir', 'Vistara', 'Air Asia',\n",
       "       'Vistara Premium economy', 'Jet Airways Business',\n",
       "       'Multiple carriers Premium economy', 'Trujet'], dtype=object)"
      ]
     },
     "execution_count": 411,
     "metadata": {},
     "output_type": "execute_result"
    }
   ],
   "source": [
    "final_df['Airline'].unique()"
   ]
  },
  {
   "cell_type": "code",
   "execution_count": null,
   "id": "4a56eae7-7827-41f4-89b8-f5f105d26e81",
   "metadata": {},
   "outputs": [],
   "source": []
  },
  {
   "cell_type": "markdown",
   "id": "b5f9a77c-5ade-46ce-81dd-cb05cedbcb7c",
   "metadata": {},
   "source": [
    "### We can encode the  Columns with module LabelEncoder"
   ]
  },
  {
   "cell_type": "code",
   "execution_count": 412,
   "id": "32530900-e0c7-4186-89ca-4cdd891972b2",
   "metadata": {},
   "outputs": [],
   "source": [
    "\n",
    "from sklearn.preprocessing import LabelEncoder\n",
    "labelencoder=LabelEncoder()"
   ]
  },
  {
   "cell_type": "code",
   "execution_count": 413,
   "id": "51a548d6-e8c3-4b95-9a45-619b9d068f2e",
   "metadata": {},
   "outputs": [],
   "source": [
    "final_df['Airline']=labelencoder.fit_transform(final_df['Airline'])\n",
    "final_df['Source']=labelencoder.fit_transform(final_df['Source'])\n",
    "final_df['Destination']=labelencoder.fit_transform(final_df['Destination'])\n",
    "final_df['Additional_Info']=labelencoder.fit_transform(final_df['Additional_Info'])"
   ]
  },
  {
   "cell_type": "code",
   "execution_count": 414,
   "id": "a5f958a9-fc14-40a0-b57b-c473e73d5889",
   "metadata": {},
   "outputs": [
    {
     "data": {
      "text/html": [
       "<div>\n",
       "<style scoped>\n",
       "    .dataframe tbody tr th:only-of-type {\n",
       "        vertical-align: middle;\n",
       "    }\n",
       "\n",
       "    .dataframe tbody tr th {\n",
       "        vertical-align: top;\n",
       "    }\n",
       "\n",
       "    .dataframe thead th {\n",
       "        text-align: right;\n",
       "    }\n",
       "</style>\n",
       "<table border=\"1\" class=\"dataframe\">\n",
       "  <thead>\n",
       "    <tr style=\"text-align: right;\">\n",
       "      <th></th>\n",
       "      <th>Airline</th>\n",
       "      <th>Source</th>\n",
       "      <th>Destination</th>\n",
       "      <th>Total_Stops</th>\n",
       "      <th>Additional_Info</th>\n",
       "      <th>Price</th>\n",
       "      <th>Date</th>\n",
       "      <th>Month</th>\n",
       "      <th>Year</th>\n",
       "      <th>Arrival_hour</th>\n",
       "      <th>Arrival_minute</th>\n",
       "      <th>Dept_hour</th>\n",
       "      <th>Dept_min</th>\n",
       "      <th>duration_in_minutes</th>\n",
       "    </tr>\n",
       "  </thead>\n",
       "  <tbody>\n",
       "    <tr>\n",
       "      <th>0</th>\n",
       "      <td>3</td>\n",
       "      <td>0</td>\n",
       "      <td>5</td>\n",
       "      <td>0.0</td>\n",
       "      <td>8</td>\n",
       "      <td>3897.0</td>\n",
       "      <td>24</td>\n",
       "      <td>3</td>\n",
       "      <td>2019</td>\n",
       "      <td>1</td>\n",
       "      <td>10</td>\n",
       "      <td>22</td>\n",
       "      <td>20</td>\n",
       "      <td>170</td>\n",
       "    </tr>\n",
       "    <tr>\n",
       "      <th>1</th>\n",
       "      <td>1</td>\n",
       "      <td>3</td>\n",
       "      <td>0</td>\n",
       "      <td>2.0</td>\n",
       "      <td>8</td>\n",
       "      <td>7662.0</td>\n",
       "      <td>1</td>\n",
       "      <td>5</td>\n",
       "      <td>2019</td>\n",
       "      <td>13</td>\n",
       "      <td>15</td>\n",
       "      <td>5</td>\n",
       "      <td>50</td>\n",
       "      <td>445</td>\n",
       "    </tr>\n",
       "    <tr>\n",
       "      <th>2</th>\n",
       "      <td>4</td>\n",
       "      <td>2</td>\n",
       "      <td>1</td>\n",
       "      <td>2.0</td>\n",
       "      <td>8</td>\n",
       "      <td>13882.0</td>\n",
       "      <td>9</td>\n",
       "      <td>6</td>\n",
       "      <td>2019</td>\n",
       "      <td>4</td>\n",
       "      <td>25</td>\n",
       "      <td>9</td>\n",
       "      <td>25</td>\n",
       "      <td>1140</td>\n",
       "    </tr>\n",
       "    <tr>\n",
       "      <th>3</th>\n",
       "      <td>3</td>\n",
       "      <td>3</td>\n",
       "      <td>0</td>\n",
       "      <td>1.0</td>\n",
       "      <td>8</td>\n",
       "      <td>6218.0</td>\n",
       "      <td>12</td>\n",
       "      <td>5</td>\n",
       "      <td>2019</td>\n",
       "      <td>23</td>\n",
       "      <td>30</td>\n",
       "      <td>18</td>\n",
       "      <td>5</td>\n",
       "      <td>325</td>\n",
       "    </tr>\n",
       "    <tr>\n",
       "      <th>4</th>\n",
       "      <td>3</td>\n",
       "      <td>0</td>\n",
       "      <td>5</td>\n",
       "      <td>1.0</td>\n",
       "      <td>8</td>\n",
       "      <td>13302.0</td>\n",
       "      <td>1</td>\n",
       "      <td>3</td>\n",
       "      <td>2019</td>\n",
       "      <td>21</td>\n",
       "      <td>35</td>\n",
       "      <td>16</td>\n",
       "      <td>50</td>\n",
       "      <td>285</td>\n",
       "    </tr>\n",
       "  </tbody>\n",
       "</table>\n",
       "</div>"
      ],
      "text/plain": [
       "   Airline  Source  Destination  Total_Stops  Additional_Info    Price  Date   \\\n",
       "0        3       0            5          0.0                8   3897.0     24   \n",
       "1        1       3            0          2.0                8   7662.0      1   \n",
       "2        4       2            1          2.0                8  13882.0      9   \n",
       "3        3       3            0          1.0                8   6218.0     12   \n",
       "4        3       0            5          1.0                8  13302.0      1   \n",
       "\n",
       "   Month  Year  Arrival_hour  Arrival_minute  Dept_hour  Dept_min  \\\n",
       "0      3  2019             1              10         22        20   \n",
       "1      5  2019            13              15          5        50   \n",
       "2      6  2019             4              25          9        25   \n",
       "3      5  2019            23              30         18         5   \n",
       "4      3  2019            21              35         16        50   \n",
       "\n",
       "   duration_in_minutes  \n",
       "0                  170  \n",
       "1                  445  \n",
       "2                 1140  \n",
       "3                  325  \n",
       "4                  285  "
      ]
     },
     "execution_count": 414,
     "metadata": {},
     "output_type": "execute_result"
    }
   ],
   "source": [
    "final_df.head()"
   ]
  },
  {
   "cell_type": "code",
   "execution_count": 415,
   "id": "d2498c0f-18f8-4a9e-8b88-7697b92026dd",
   "metadata": {},
   "outputs": [
    {
     "data": {
      "text/plain": [
       "(13354, 14)"
      ]
     },
     "execution_count": 415,
     "metadata": {},
     "output_type": "execute_result"
    }
   ],
   "source": [
    "final_df.shape\n"
   ]
  },
  {
   "cell_type": "code",
   "execution_count": 416,
   "id": "a2e8a48c-5915-410c-b44c-acb7c40ac6ef",
   "metadata": {},
   "outputs": [
    {
     "name": "stdout",
     "output_type": "stream",
     "text": [
      "<class 'pandas.core.frame.DataFrame'>\n",
      "RangeIndex: 13354 entries, 0 to 13353\n",
      "Data columns (total 14 columns):\n",
      " #   Column               Non-Null Count  Dtype  \n",
      "---  ------               --------------  -----  \n",
      " 0   Airline              13354 non-null  int32  \n",
      " 1   Source               13354 non-null  int32  \n",
      " 2   Destination          13354 non-null  int32  \n",
      " 3   Total_Stops          13354 non-null  float64\n",
      " 4   Additional_Info      13354 non-null  int32  \n",
      " 5   Price                10683 non-null  float64\n",
      " 6   Date                 13354 non-null  int32  \n",
      " 7   Month                13354 non-null  int32  \n",
      " 8   Year                 13354 non-null  int32  \n",
      " 9   Arrival_hour         13354 non-null  int32  \n",
      " 10  Arrival_minute       13354 non-null  int32  \n",
      " 11  Dept_hour            13354 non-null  int32  \n",
      " 12  Dept_min             13354 non-null  int32  \n",
      " 13  duration_in_minutes  13354 non-null  int64  \n",
      "dtypes: float64(2), int32(11), int64(1)\n",
      "memory usage: 886.9 KB\n"
     ]
    }
   ],
   "source": [
    "final_df.info()"
   ]
  },
  {
   "cell_type": "code",
   "execution_count": 433,
   "id": "6bc87d9b-7d29-41de-91aa-598197eb8a7d",
   "metadata": {},
   "outputs": [
    {
     "data": {
      "text/plain": [
       "<Axes: >"
      ]
     },
     "execution_count": 433,
     "metadata": {},
     "output_type": "execute_result"
    },
    {
     "data": {
      "image/png": "[encoded data removed]",
      "text/plain": [
       "<Figure size 640x480 with 2 Axes>"
      ]
     },
     "metadata": {},
     "output_type": "display_data"
    }
   ],
   "source": [
    "sns.heatmap(final_df.corr(),cmap=\"RdYlGn\")"
   ]
  },
  {
   "cell_type": "markdown",
   "id": "fec56e8d-b56e-41ca-8bc8-219cc6232fbb",
   "metadata": {},
   "source": [
    "### Observation\n",
    "##### Here Good Correlation Variables are:\n",
    "1. Price - Total_stop\n",
    "2. Price - duration_in_minutes\n",
    "3. duraiton_in_minutes - Total_stop\n"
   ]
  },
  {
   "cell_type": "code",
   "execution_count": null,
   "id": "478bdd5b-f0c4-4f91-8a75-6ae0e1579ee4",
   "metadata": {},
   "outputs": [],
   "source": []
  }
 ],
 "metadata": {
  "kernelspec": {
   "display_name": "Python 3 (ipykernel)",
   "language": "python",
   "name": "python3"
  },
  "language_info": {
   "codemirror_mode": {
    "name": "ipython",
    "version": 3
   },
   "file_extension": ".py",
   "mimetype": "text/x-python",
   "name": "python",
   "nbconvert_exporter": "python",
   "pygments_lexer": "ipython3",
   "version": "3.11.5"
  }
 },
 "nbformat": 4,
 "nbformat_minor": 5
}
